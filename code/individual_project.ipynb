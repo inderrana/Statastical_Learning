{
 "cells": [
  {
   "cell_type": "markdown",
   "metadata": {},
   "source": [
    "### Statastical & Machine Learning Indivisual Assignment\n",
    "<br/>\n",
    "IESEG School of Management\n",
    "<br/>\n",
    "MSc in Big Data Analytics for Business"
   ]
  },
  {
   "cell_type": "markdown",
   "metadata": {},
   "source": [
    "##### Data processing and ML pipeline templete used in this notebook are based on the notebook shared by Minh Phan - IESEG School of Management\n",
    "Refference for conditions and encoding functions - Minh Phan (Based on the ML pipeline templete)\n",
    "<br/>\n",
    "For code and model references please refer to the last page of the report submitted with this notebook"
   ]
  },
  {
   "cell_type": "code",
   "execution_count": 1,
   "metadata": {},
   "outputs": [
    {
     "name": "stdout",
     "output_type": "stream",
     "text": [
      "CPU times: total: 2.55 s\n",
      "Wall time: 2.96 s\n"
     ]
    }
   ],
   "source": [
    "%%time\n",
    "# Data exploration\n",
    "import matplotlib.pyplot as plt\n",
    "\n",
    "# Data processing\n",
    "import pickle\n",
    "import numpy as np\n",
    "import pandas as pd\n",
    "from sklearn.impute import SimpleImputer\n",
    "from sklearn.preprocessing import OrdinalEncoder, OneHotEncoder, KBinsDiscretizer\n",
    "from sklearn.preprocessing import PolynomialFeatures\n",
    "from sklearn.preprocessing import MinMaxScaler\n",
    "from sklearn.feature_selection import mutual_info_classif, VarianceThreshold\n",
    "from sklearn.feature_selection import SelectFromModel\n",
    "from sklearn.decomposition import PCA\n",
    "from sklearn.model_selection import cross_val_score, GridSearchCV\n",
    "from sklearn.calibration import CalibratedClassifierCV\n",
    "from scipy import stats\n",
    "from scipy.stats import kendalltau, pearsonr, spearmanr\n",
    "from sklearn.model_selection import train_test_split\n",
    "\n",
    "\n",
    "# Modeling\n",
    "from sklearn.linear_model import LogisticRegression, SGDClassifier\n",
    "from sklearn.discriminant_analysis import LinearDiscriminantAnalysis\n",
    "from sklearn.tree import DecisionTreeClassifier\n",
    "from sklearn.ensemble import RandomForestClassifier\n",
    "from sklearn.ensemble import GradientBoostingClassifier, AdaBoostClassifier\n",
    "from sklearn.svm import LinearSVC\n",
    "from sklearn.neural_network import MLPClassifier\n",
    "#from lightgbm import LGBMClassifier\n",
    "\n",
    "# Experimental setup\n",
    "from sklearn.model_selection import KFold, StratifiedKFold, cross_validate, GridSearchCV\n",
    "from imblearn.over_sampling import SMOTE, RandomOverSampler\n",
    "from imblearn.pipeline import Pipeline\n",
    "from sklearn.metrics import roc_auc_score, accuracy_score\n",
    "from sklearn.model_selection import learning_curve"
   ]
  },
  {
   "cell_type": "code",
   "execution_count": 2,
   "metadata": {},
   "outputs": [
    {
     "name": "stdout",
     "output_type": "stream",
     "text": [
      "CPU times: total: 0 ns\n",
      "Wall time: 0 ns\n"
     ]
    }
   ],
   "source": [
    "%%time\n",
    "###################################################################\n",
    "# MODIFY THESE FLAGS TO TURN ON/OFF THE DATA PROCESSING FUNCTIONS #\n",
    "###################################################################\n",
    "\n",
    "# Flag variables to run the data processing steps\n",
    "# Feature engineering step\n",
    "enable_num_poly = True  # Add polynomial terms\n",
    "# Value transformation step\n",
    "enable_trans_cat_dt = True  # Remapping cat variables - Decision tree–based remapping\n",
    "enable_trans_num_dt = True  # Discretizing num variables - Decision tree–based discretization\n",
    "enable_trans_num_ef = True  # Discretizing num variables - Equal frequency discretization\n",
    "enable_trans_num_ew = True  # Discretizing num variables - Equal width discretization\n",
    "# Value representation step\n",
    "enable_repr_dummy = True  # Represent cat variables - Dummy coding\n",
    "enable_repr_icd = True  # Represent cat variables - Incidence (of target variable) replacement\n",
    "enable_repr_woe = True  # Represent cat variables - Weight-of-Evidence (WoE) conversion\n",
    "drop_cat_vars = True  # Drop cat variables after value representation step\n",
    "# Other data processing\n",
    "enable_normalize = True  # Normalize the data to the same range [0, 1]"
   ]
  },
  {
   "cell_type": "markdown",
   "metadata": {},
   "source": [
    "## 1. Data summary"
   ]
  },
  {
   "cell_type": "code",
   "execution_count": 116,
   "metadata": {},
   "outputs": [
    {
     "name": "stdout",
     "output_type": "stream",
     "text": [
      "C:\\Users\\irana\\OneDrive - IESEG\\Documents\\GitHub\\Statastical_Learning\\data\\raw\n"
     ]
    }
   ],
   "source": [
    "#set working directory\n",
    "%cd \"C:/Users/irana/OneDrive - IESEG/Documents/GitHub/Statastical_Learning/data/raw\""
   ]
  },
  {
   "cell_type": "code",
   "execution_count": 4,
   "metadata": {},
   "outputs": [
    {
     "name": "stdout",
     "output_type": "stream",
     "text": [
      "CPU times: total: 93.8 ms\n",
      "Wall time: 83.7 ms\n"
     ]
    }
   ],
   "source": [
    "%%time\n",
    "# data\n",
    "data = pd.read_csv('bank_mkt_train.csv', low_memory=False)"
   ]
  },
  {
   "cell_type": "code",
   "execution_count": 5,
   "metadata": {},
   "outputs": [
    {
     "name": "stdout",
     "output_type": "stream",
     "text": [
      "object     10\n",
      "float64     9\n",
      "int64       2\n",
      "dtype: int64\n",
      "CPU times: total: 0 ns\n",
      "Wall time: 3 ms\n"
     ]
    },
    {
     "data": {
      "text/html": [
       "<div>\n",
       "<style scoped>\n",
       "    .dataframe tbody tr th:only-of-type {\n",
       "        vertical-align: middle;\n",
       "    }\n",
       "\n",
       "    .dataframe tbody tr th {\n",
       "        vertical-align: top;\n",
       "    }\n",
       "\n",
       "    .dataframe thead th {\n",
       "        text-align: right;\n",
       "    }\n",
       "</style>\n",
       "<table border=\"1\" class=\"dataframe\">\n",
       "  <thead>\n",
       "    <tr style=\"text-align: right;\">\n",
       "      <th></th>\n",
       "      <th>client_id</th>\n",
       "      <th>age</th>\n",
       "      <th>job</th>\n",
       "      <th>marital</th>\n",
       "      <th>education</th>\n",
       "      <th>default</th>\n",
       "      <th>housing</th>\n",
       "      <th>loan</th>\n",
       "      <th>contact</th>\n",
       "      <th>month</th>\n",
       "      <th>...</th>\n",
       "      <th>campaign</th>\n",
       "      <th>pdays</th>\n",
       "      <th>previous</th>\n",
       "      <th>poutcome</th>\n",
       "      <th>emp.var.rate</th>\n",
       "      <th>cons.price.idx</th>\n",
       "      <th>cons.conf.idx</th>\n",
       "      <th>euribor3m</th>\n",
       "      <th>nr.employed</th>\n",
       "      <th>subscribe</th>\n",
       "    </tr>\n",
       "  </thead>\n",
       "  <tbody>\n",
       "    <tr>\n",
       "      <th>0</th>\n",
       "      <td>29925</td>\n",
       "      <td>42.0</td>\n",
       "      <td>management</td>\n",
       "      <td>married</td>\n",
       "      <td>basic.9y</td>\n",
       "      <td>no</td>\n",
       "      <td>no</td>\n",
       "      <td>no</td>\n",
       "      <td>cellular</td>\n",
       "      <td>jul</td>\n",
       "      <td>...</td>\n",
       "      <td>1.0</td>\n",
       "      <td>999.0</td>\n",
       "      <td>0.0</td>\n",
       "      <td>nonexistent</td>\n",
       "      <td>1.4</td>\n",
       "      <td>93.918</td>\n",
       "      <td>-42.7</td>\n",
       "      <td>4.968</td>\n",
       "      <td>5228.1</td>\n",
       "      <td>0</td>\n",
       "    </tr>\n",
       "    <tr>\n",
       "      <th>1</th>\n",
       "      <td>37529</td>\n",
       "      <td>35.0</td>\n",
       "      <td>unemployed</td>\n",
       "      <td>married</td>\n",
       "      <td>university.degree</td>\n",
       "      <td>no</td>\n",
       "      <td>yes</td>\n",
       "      <td>no</td>\n",
       "      <td>telephone</td>\n",
       "      <td>jun</td>\n",
       "      <td>...</td>\n",
       "      <td>4.0</td>\n",
       "      <td>999.0</td>\n",
       "      <td>0.0</td>\n",
       "      <td>nonexistent</td>\n",
       "      <td>1.4</td>\n",
       "      <td>94.465</td>\n",
       "      <td>-41.8</td>\n",
       "      <td>4.960</td>\n",
       "      <td>5228.1</td>\n",
       "      <td>0</td>\n",
       "    </tr>\n",
       "    <tr>\n",
       "      <th>2</th>\n",
       "      <td>2757</td>\n",
       "      <td>44.0</td>\n",
       "      <td>technician</td>\n",
       "      <td>married</td>\n",
       "      <td>basic.9y</td>\n",
       "      <td>no</td>\n",
       "      <td>yes</td>\n",
       "      <td>yes</td>\n",
       "      <td>cellular</td>\n",
       "      <td>may</td>\n",
       "      <td>...</td>\n",
       "      <td>1.0</td>\n",
       "      <td>999.0</td>\n",
       "      <td>0.0</td>\n",
       "      <td>nonexistent</td>\n",
       "      <td>-1.8</td>\n",
       "      <td>92.893</td>\n",
       "      <td>-46.2</td>\n",
       "      <td>1.264</td>\n",
       "      <td>5099.1</td>\n",
       "      <td>0</td>\n",
       "    </tr>\n",
       "    <tr>\n",
       "      <th>3</th>\n",
       "      <td>9642</td>\n",
       "      <td>45.0</td>\n",
       "      <td>services</td>\n",
       "      <td>married</td>\n",
       "      <td>high.school</td>\n",
       "      <td>no</td>\n",
       "      <td>yes</td>\n",
       "      <td>no</td>\n",
       "      <td>cellular</td>\n",
       "      <td>apr</td>\n",
       "      <td>...</td>\n",
       "      <td>1.0</td>\n",
       "      <td>999.0</td>\n",
       "      <td>0.0</td>\n",
       "      <td>nonexistent</td>\n",
       "      <td>-1.8</td>\n",
       "      <td>93.075</td>\n",
       "      <td>-47.1</td>\n",
       "      <td>1.453</td>\n",
       "      <td>5099.1</td>\n",
       "      <td>0</td>\n",
       "    </tr>\n",
       "    <tr>\n",
       "      <th>4</th>\n",
       "      <td>14183</td>\n",
       "      <td>45.0</td>\n",
       "      <td>unknown</td>\n",
       "      <td>married</td>\n",
       "      <td>unknown</td>\n",
       "      <td>unknown</td>\n",
       "      <td>unknown</td>\n",
       "      <td>unknown</td>\n",
       "      <td>telephone</td>\n",
       "      <td>may</td>\n",
       "      <td>...</td>\n",
       "      <td>1.0</td>\n",
       "      <td>999.0</td>\n",
       "      <td>0.0</td>\n",
       "      <td>nonexistent</td>\n",
       "      <td>1.1</td>\n",
       "      <td>93.994</td>\n",
       "      <td>-36.4</td>\n",
       "      <td>4.859</td>\n",
       "      <td>5191.0</td>\n",
       "      <td>0</td>\n",
       "    </tr>\n",
       "  </tbody>\n",
       "</table>\n",
       "<p>5 rows × 21 columns</p>\n",
       "</div>"
      ],
      "text/plain": [
       "   client_id   age         job  marital          education  default  housing  \\\n",
       "0      29925  42.0  management  married           basic.9y       no       no   \n",
       "1      37529  35.0  unemployed  married  university.degree       no      yes   \n",
       "2       2757  44.0  technician  married           basic.9y       no      yes   \n",
       "3       9642  45.0    services  married        high.school       no      yes   \n",
       "4      14183  45.0     unknown  married            unknown  unknown  unknown   \n",
       "\n",
       "      loan    contact month  ... campaign  pdays  previous     poutcome  \\\n",
       "0       no   cellular   jul  ...      1.0  999.0       0.0  nonexistent   \n",
       "1       no  telephone   jun  ...      4.0  999.0       0.0  nonexistent   \n",
       "2      yes   cellular   may  ...      1.0  999.0       0.0  nonexistent   \n",
       "3       no   cellular   apr  ...      1.0  999.0       0.0  nonexistent   \n",
       "4  unknown  telephone   may  ...      1.0  999.0       0.0  nonexistent   \n",
       "\n",
       "  emp.var.rate  cons.price.idx  cons.conf.idx  euribor3m  nr.employed  \\\n",
       "0          1.4          93.918          -42.7      4.968       5228.1   \n",
       "1          1.4          94.465          -41.8      4.960       5228.1   \n",
       "2         -1.8          92.893          -46.2      1.264       5099.1   \n",
       "3         -1.8          93.075          -47.1      1.453       5099.1   \n",
       "4          1.1          93.994          -36.4      4.859       5191.0   \n",
       "\n",
       "   subscribe  \n",
       "0          0  \n",
       "1          0  \n",
       "2          0  \n",
       "3          0  \n",
       "4          0  \n",
       "\n",
       "[5 rows x 21 columns]"
      ]
     },
     "execution_count": 5,
     "metadata": {},
     "output_type": "execute_result"
    }
   ],
   "source": [
    "%%time\n",
    "# Print data\n",
    "print(data.dtypes.value_counts())\n",
    "data.head()"
   ]
  },
  {
   "cell_type": "markdown",
   "metadata": {},
   "source": [
    "#### (b) Create a list of column names to manage variables"
   ]
  },
  {
   "cell_type": "code",
   "execution_count": 6,
   "metadata": {},
   "outputs": [
    {
     "name": "stdout",
     "output_type": "stream",
     "text": [
      "CPU times: total: 0 ns\n",
      "Wall time: 0 ns\n"
     ]
    }
   ],
   "source": [
    "%%time\n",
    "# General list of variables\n",
    "id_var = [\"client_id\"]  # ID\n",
    "target_var = [\"subscribe\"]  # Target get variable\n",
    "predictors = [v for v in data.columns if v not in id_var + target_var]\n",
    "\n",
    "# List of numerical and catergorical variables\n",
    "num_vars = ['age', 'campaign', 'pdays', 'previous',\n",
    "            'emp.var.rate', 'cons.price.idx', 'cons.conf.idx', 'euribor3m', 'nr.employed']\n",
    "cat_vars = ['job', 'marital', 'education', 'default', 'housing', 'loan',\n",
    "            'contact', 'month', 'day_of_week',\n",
    "            'poutcome']\n",
    "\n",
    "# Double check the list of variables\n",
    "assert(len(predictors) == len(num_vars) + len(cat_vars))"
   ]
  },
  {
   "cell_type": "markdown",
   "metadata": {},
   "source": [
    "#### (c) Check the target variable class distribution"
   ]
  },
  {
   "cell_type": "code",
   "execution_count": 7,
   "metadata": {},
   "outputs": [
    {
     "name": "stdout",
     "output_type": "stream",
     "text": [
      "subscribe\n",
      "0            17729\n",
      "1             2271\n",
      "dtype: int64\n",
      "subscribe\n",
      "0            0.88645\n",
      "1            0.11355\n",
      "dtype: float64\n",
      "CPU times: total: 31.2 ms\n",
      "Wall time: 36 ms\n"
     ]
    }
   ],
   "source": [
    "%%time\n",
    "# By number\n",
    "print(data[target_var].value_counts())\n",
    "\n",
    "# By percentage\n",
    "print(data[target_var].value_counts(normalize=True))"
   ]
  },
  {
   "cell_type": "markdown",
   "metadata": {},
   "source": [
    "## 2. Processing data"
   ]
  },
  {
   "cell_type": "markdown",
   "metadata": {},
   "source": [
    "#### (a) Check and correct data error - Constant variables"
   ]
  },
  {
   "cell_type": "code",
   "execution_count": 8,
   "metadata": {},
   "outputs": [
    {
     "name": "stdout",
     "output_type": "stream",
     "text": [
      "Data - # NA of num vars: 1730\n",
      "CPU times: total: 31.2 ms\n",
      "Wall time: 3 ms\n"
     ]
    }
   ],
   "source": [
    "%%time\n",
    "# Check missing value\n",
    "print('Data - # NA of num vars:', data[num_vars].isna().sum().sum())"
   ]
  },
  {
   "cell_type": "code",
   "execution_count": 9,
   "metadata": {},
   "outputs": [
    {
     "name": "stdout",
     "output_type": "stream",
     "text": [
      "Drop num variables with high missing pct: []\n",
      "Drop cat variables with high missing pct: []\n",
      "CPU times: total: 15.6 ms\n",
      "Wall time: 24.7 ms\n"
     ]
    }
   ],
   "source": [
    "%%time\n",
    "# Here, we test the effect of dropping variables with high missing percentage (>30%)\n",
    "na_threshold = 0.3\n",
    "\n",
    "# Drop num variables with more than 30% missing values\n",
    "num_na_pct = data[num_vars].isnull().mean()\n",
    "num_vars = num_na_pct[num_na_pct <= na_threshold].index.tolist()\n",
    "print(\"Drop num variables with high missing pct:\", num_na_pct[num_na_pct > na_threshold].tolist())\n",
    "\n",
    "# Drop cat variables with more than 30% missing values\n",
    "cat_na_pct = data[cat_vars].isnull().mean()\n",
    "cat_vars = cat_na_pct[cat_na_pct <= 0.3].index.tolist()\n",
    "print(\"Drop cat variables with high missing pct:\", cat_na_pct[cat_na_pct > na_threshold].tolist())\n",
    "\n",
    "# Update train, test\n",
    "data = data[id_var + num_vars + cat_vars + target_var]"
   ]
  },
  {
   "cell_type": "code",
   "execution_count": 10,
   "metadata": {},
   "outputs": [
    {
     "name": "stdout",
     "output_type": "stream",
     "text": [
      "CPU times: total: 0 ns\n",
      "Wall time: 0 ns\n"
     ]
    }
   ],
   "source": [
    "%%time\n",
    "# List dummary variables to track missing values imputation\n",
    "na_vars = []"
   ]
  },
  {
   "cell_type": "code",
   "execution_count": 11,
   "metadata": {},
   "outputs": [
    {
     "name": "stdout",
     "output_type": "stream",
     "text": [
      "CPU times: total: 15.6 ms\n",
      "Wall time: 29 ms\n"
     ]
    }
   ],
   "source": [
    "%%time\n",
    "# Numerical variables\n",
    "# Build the missing value imputor using the mean\n",
    "imp = SimpleImputer(missing_values=np.nan, strategy='mean', add_indicator=True)\n",
    "imp.fit(data[num_vars])\n",
    "\n",
    "# Reconstruct the list of vars + indicators\n",
    "na_vars = na_vars + [num_vars[v] + \"_na\" for v in imp.indicator_.features_]\n",
    "impute_vars = num_vars + na_vars\n",
    "\n",
    "# Apply on train, test\n",
    "data[impute_vars] = pd.DataFrame(imp.transform(data[num_vars]), columns=impute_vars)"
   ]
  },
  {
   "cell_type": "code",
   "execution_count": 12,
   "metadata": {},
   "outputs": [
    {
     "name": "stdout",
     "output_type": "stream",
     "text": [
      "CPU times: total: 15.6 ms\n",
      "Wall time: 18 ms\n"
     ]
    }
   ],
   "source": [
    "%%time\n",
    "# Categorical variables\n",
    "# Impute missing value using a new category \"Missing\"\n",
    "# Note: If the categorical vars are imputed by most_frequent, the indicators should be added\n",
    "data[cat_vars] = data[cat_vars].fillna('Missing')"
   ]
  },
  {
   "cell_type": "markdown",
   "metadata": {},
   "source": [
    "#### (c) Check and correct data error - Outliers in numerical variables"
   ]
  },
  {
   "cell_type": "code",
   "execution_count": 13,
   "metadata": {},
   "outputs": [
    {
     "name": "stdout",
     "output_type": "stream",
     "text": [
      "age has # outliers on train, test : 181 [ 0.9 % ]\n",
      "campaign has # outliers on train, test : 423 [ 2.11 % ]\n",
      "pdays has # outliers on train, test : 750 [ 3.75 % ]\n",
      "previous has # outliers on train, test : 519 [ 2.6 % ]\n",
      "CPU times: total: 31.2 ms\n",
      "Wall time: 29.7 ms\n"
     ]
    }
   ],
   "source": [
    "%%time\n",
    "# Check the outliers on train, test\n",
    "for v in num_vars:\n",
    "    # Calculate the boundaries on train [mean-3*sd, mean+3*sd]\n",
    "    mu = np.mean(data[v])\n",
    "    sd = np.std(data[v])\n",
    "    lower = mu - 3*sd\n",
    "    upper = mu + 3*sd\n",
    "    # Check outliers using the boundaries\n",
    "    data_out = (data[v] < lower) | (data[v] > upper)\n",
    "    if np.sum(data_out)  > 0:\n",
    "        print(v, \"has # outliers on train, test :\",\n",
    "              np.sum(data_out), \"[\", np.round(100*np.mean(data_out), 2), \"% ]\")"
   ]
  },
  {
   "cell_type": "markdown",
   "metadata": {},
   "source": [
    "#### (d) Encode categorical variables"
   ]
  },
  {
   "cell_type": "code",
   "execution_count": 14,
   "metadata": {},
   "outputs": [
    {
     "name": "stdout",
     "output_type": "stream",
     "text": [
      "CPU times: total: 109 ms\n",
      "Wall time: 114 ms\n"
     ]
    }
   ],
   "source": [
    "%%time\n",
    "# Encode categorical variables as integer values\n",
    "# Categorical variables in any format will be converted to string\n",
    "# Note: All the NA values were imputed previously\n",
    "enc = OrdinalEncoder()\n",
    "enc.fit(pd.concat([data[cat_vars].astype(str), data[cat_vars].astype(str)], axis=0))\n",
    "data[cat_vars] = enc.transform(data[cat_vars].astype(str))"
   ]
  },
  {
   "cell_type": "markdown",
   "metadata": {},
   "source": [
    "#### (e) Finalize the processed data"
   ]
  },
  {
   "cell_type": "code",
   "execution_count": 15,
   "metadata": {},
   "outputs": [
    {
     "data": {
      "text/plain": [
       "Index(['client_id', 'age', 'campaign', 'pdays', 'previous', 'emp.var.rate',\n",
       "       'cons.price.idx', 'cons.conf.idx', 'euribor3m', 'nr.employed', 'job',\n",
       "       'marital', 'education', 'default', 'housing', 'loan', 'contact',\n",
       "       'month', 'day_of_week', 'poutcome', 'subscribe', 'age_na',\n",
       "       'campaign_na', 'pdays_na', 'previous_na', 'emp.var.rate_na',\n",
       "       'cons.price.idx_na', 'cons.conf.idx_na', 'euribor3m_na',\n",
       "       'nr.employed_na'],\n",
       "      dtype='object')"
      ]
     },
     "execution_count": 15,
     "metadata": {},
     "output_type": "execute_result"
    }
   ],
   "source": [
    "data.columns"
   ]
  },
  {
   "cell_type": "code",
   "execution_count": 16,
   "metadata": {},
   "outputs": [
    {
     "name": "stdout",
     "output_type": "stream",
     "text": [
      "CPU times: total: 31.2 ms\n",
      "Wall time: 29 ms\n"
     ]
    }
   ],
   "source": [
    "%%time\n",
    "# Convert bool variable to int\n",
    "data[na_vars] = data[na_vars].astype(np.int8)"
   ]
  },
  {
   "cell_type": "code",
   "execution_count": 17,
   "metadata": {},
   "outputs": [
    {
     "name": "stdout",
     "output_type": "stream",
     "text": [
      "# id_var [ 1 ] : ['client_id']\n",
      "# num_vars [ 9 ] : ['age', 'campaign', 'pdays', 'previous', 'emp.var.rate'] ...\n",
      "# cat_vars [ 10 ] : ['job', 'marital', 'education', 'default', 'housing'] ...\n",
      "# na_vars [ 9 ] : ['age_na', 'campaign_na', 'pdays_na', 'previous_na', 'emp.var.rate_na'] ...\n",
      "# target_var [ 1 ] : ['subscribe']\n",
      "CPU times: total: 0 ns\n",
      "Wall time: 996 µs\n"
     ]
    }
   ],
   "source": [
    "%%time\n",
    "# Print out the final variables\n",
    "print(\"# id_var [\", len(id_var), \"] :\", id_var)\n",
    "print(\"# num_vars [\", len(num_vars), \"] :\", num_vars[:5], \"...\")\n",
    "print(\"# cat_vars [\", len(cat_vars), \"] :\", cat_vars[:5], \"...\")\n",
    "print(\"# na_vars [\", len(na_vars), \"] :\", na_vars[:5], \"...\")\n",
    "print(\"# target_var [\", len(target_var), \"] :\", target_var)"
   ]
  },
  {
   "cell_type": "code",
   "execution_count": 18,
   "metadata": {},
   "outputs": [
    {
     "name": "stdout",
     "output_type": "stream",
     "text": [
      "(20000, 30)\n",
      "CPU times: total: 15.6 ms\n",
      "Wall time: 6.2 ms\n"
     ]
    }
   ],
   "source": [
    "%%time\n",
    "# Sort the data according to the variables list\n",
    "data = data[id_var + num_vars + cat_vars + na_vars + target_var]\n",
    "print(data.shape)"
   ]
  },
  {
   "cell_type": "code",
   "execution_count": 19,
   "metadata": {},
   "outputs": [
    {
     "data": {
      "text/plain": [
       "Index(['client_id', 'age', 'campaign', 'pdays', 'previous', 'emp.var.rate',\n",
       "       'cons.price.idx', 'cons.conf.idx', 'euribor3m', 'nr.employed', 'job',\n",
       "       'marital', 'education', 'default', 'housing', 'loan', 'contact',\n",
       "       'month', 'day_of_week', 'poutcome', 'age_na', 'campaign_na', 'pdays_na',\n",
       "       'previous_na', 'emp.var.rate_na', 'cons.price.idx_na',\n",
       "       'cons.conf.idx_na', 'euribor3m_na', 'nr.employed_na', 'subscribe'],\n",
       "      dtype='object')"
      ]
     },
     "execution_count": 19,
     "metadata": {},
     "output_type": "execute_result"
    }
   ],
   "source": [
    "data.columns"
   ]
  },
  {
   "cell_type": "code",
   "execution_count": 20,
   "metadata": {},
   "outputs": [],
   "source": [
    "#create train test split\n",
    "train, test = train_test_split(data, test_size=0.2, random_state=42, stratify=data.subscribe)"
   ]
  },
  {
   "cell_type": "code",
   "execution_count": 21,
   "metadata": {},
   "outputs": [],
   "source": [
    "train = train.reset_index()\n",
    "test = test.reset_index()"
   ]
  },
  {
   "cell_type": "code",
   "execution_count": 22,
   "metadata": {},
   "outputs": [
    {
     "name": "stdout",
     "output_type": "stream",
     "text": [
      "Train Shape:  (16000, 31) | Test Shape:  (4000, 31)\n"
     ]
    }
   ],
   "source": [
    "print(\"Train Shape: \",train.shape, \"| Test Shape: \", test.shape)"
   ]
  },
  {
   "cell_type": "markdown",
   "metadata": {},
   "source": [
    "### 2.2. Feature engineering"
   ]
  },
  {
   "cell_type": "markdown",
   "metadata": {},
   "source": [
    "#### (a) Quickly detect most (potentially) important varriables - Correlation test for numerical variables"
   ]
  },
  {
   "cell_type": "code",
   "execution_count": 23,
   "metadata": {},
   "outputs": [
    {
     "name": "stdout",
     "output_type": "stream",
     "text": [
      "Top 5 vars [+] correlated with target_var :\n",
      "previous         0.240117\n",
      "cons.conf.idx    0.052097\n",
      "age              0.034762\n",
      "Name: subscribe, dtype: float64\n",
      "Top 5 vars [-] correlated with target_var :\n",
      "cons.price.idx   -0.132588\n",
      "emp.var.rate     -0.299462\n",
      "euribor3m        -0.310996\n",
      "pdays            -0.335400\n",
      "nr.employed      -0.360325\n",
      "Name: subscribe, dtype: float64\n",
      "CPU times: total: 15.6 ms\n",
      "Wall time: 12 ms\n"
     ]
    }
   ],
   "source": [
    "%%time\n",
    "# Pearson's correlation for numerical variables\n",
    "corr = train[num_vars + target_var].corr(method='pearson')\n",
    "corr = corr[target_var[0]][:-1].dropna().sort_values(ascending=False)\n",
    "print(\"Top 5 vars [+] correlated with target_var :\"); print(corr[corr > 0][:5])\n",
    "print(\"Top 5 vars [-] correlated with target_var :\"); print(corr[corr < 0][-5:])"
   ]
  },
  {
   "cell_type": "markdown",
   "metadata": {},
   "source": [
    "#### (b) Quickly detect most (potentially) important varriables - Mutual information\n",
    "\n",
    "<u>Reference:</u>\n",
    "- Mutual information. Link: https://en.wikipedia.org/wiki/Mutual_information\n",
    "- sklearn.feature_selection.mutual_info_classif. Link: https://scikit-learn.org/stable/modules/generated/sklearn.feature_selection.mutual_info_classif.html"
   ]
  },
  {
   "cell_type": "code",
   "execution_count": 24,
   "metadata": {},
   "outputs": [
    {
     "name": "stdout",
     "output_type": "stream",
     "text": [
      "Top 10 vars :\n",
      "poutcome       0.036125\n",
      "month          0.026625\n",
      "contact        0.013131\n",
      "job            0.009433\n",
      "default        0.007483\n",
      "marital        0.005475\n",
      "education      0.000826\n",
      "housing        0.000356\n",
      "day_of_week    0.000255\n",
      "loan           0.000056\n",
      "dtype: float64\n",
      "CPU times: total: 812 ms\n",
      "Wall time: 861 ms\n"
     ]
    }
   ],
   "source": [
    "%%time\n",
    "# Check mutual information for all variables\n",
    "# Note: The calculation involves a random process, therefore, the result may change if there is no\n",
    "# variable with significant information.\n",
    "mutual_info = mutual_info_classif(train[cat_vars], train[target_var].values.squeeze())\n",
    "mutual_info = pd.Series(mutual_info, index=cat_vars)\n",
    "print(\"Top 10 vars :\"); print(mutual_info.sort_values(ascending=False)[:10])"
   ]
  },
  {
   "cell_type": "markdown",
   "metadata": {},
   "source": [
    "#### (c) Add polynomial terms for numerical variables\n",
    "\n",
    "<u>Note:</u> We only add the polynomial terms (degree=3) for a num variable if it increases the LR model performance."
   ]
  },
  {
   "cell_type": "code",
   "execution_count": 25,
   "metadata": {},
   "outputs": [
    {
     "name": "stdout",
     "output_type": "stream",
     "text": [
      "Variable age AUC vs. AUC poly: 0.49143272622017353 --> 0.6007377603416612\n"
     ]
    },
    {
     "name": "stderr",
     "output_type": "stream",
     "text": [
      "C:\\tools\\Anaconda3\\envs\\pytorch\\lib\\site-packages\\sklearn\\utils\\deprecation.py:87: FutureWarning: Function get_feature_names is deprecated; get_feature_names is deprecated in 1.0 and will be removed in 1.2. Please use get_feature_names_out instead.\n",
      "  warnings.warn(msg, category=FutureWarning)\n"
     ]
    },
    {
     "name": "stdout",
     "output_type": "stream",
     "text": [
      "CPU times: total: 6.05 s\n",
      "Wall time: 5.87 s\n"
     ]
    }
   ],
   "source": [
    "%%time\n",
    "if enable_num_poly:\n",
    "    for v in num_vars:\n",
    "        # Setup the LR model\n",
    "        cv = KFold(n_splits=5, random_state=1, shuffle=True)\n",
    "        model = LogisticRegression(max_iter=200)\n",
    "        parameters = {}\n",
    "        clf = GridSearchCV(model, parameters, scoring=\"roc_auc\", n_jobs=-1, cv=cv, verbose=0)\n",
    "        \n",
    "        # Fit the LR model for 1 numerical variable\n",
    "        clf.fit(train[[v]], train[target_var].squeeze())\n",
    "        clf_num_score = clf.best_score_\n",
    "        \n",
    "        # Fit the LR model for 1 numerical variable + it polynomial degree = 3\n",
    "        poly = PolynomialFeatures(degree=3, include_bias=False)\n",
    "        poly.fit(train[[v]])\n",
    "        clf.fit(poly.transform(train[[v]]), train[target_var].squeeze())\n",
    "        clf_poly_score = clf.best_score_\n",
    "        \n",
    "        # Add the polynomial terms to train, test\n",
    "        if (clf_poly_score > 0.5) & (clf_poly_score - clf_num_score > 0.05):\n",
    "            print('Variable', v, 'AUC vs. AUC poly:', clf_num_score, '-->', clf_poly_score)\n",
    "            poly_vars = [v_poly.replace('x0', v) for v_poly in poly.get_feature_names()[1:]]\n",
    "            num_vars = num_vars + poly_vars\n",
    "            train[poly_vars] = pd.DataFrame(poly.transform(train[[v]])[:, 1:], columns=poly_vars)\n",
    "            test[poly_vars] = pd.DataFrame(poly.transform(test[[v]])[:, 1:], columns=poly_vars)"
   ]
  },
  {
   "cell_type": "markdown",
   "metadata": {},
   "source": [
    "### 2.3. Value transformation (num, cat => cat)\n",
    "\n",
    "- Categorical variable: remapping\n",
    "- Continuous variable: discretization\n",
    "\n",
    "<u>Note:</u> Some techniques that incoporate the information from target variable may cause overfitting problem.\n",
    "\n",
    "<u>Reference:</u>\n",
    "\n",
    "- Coussement, K., Lessmann, S., & Verstraeten, G. (2017). A comparative analysis of data preparation algorithms for customer churn prediction: A case study in the telecommunication industry. Decision Support Systems, 95, 27-36."
   ]
  },
  {
   "cell_type": "code",
   "execution_count": 26,
   "metadata": {},
   "outputs": [
    {
     "name": "stdout",
     "output_type": "stream",
     "text": [
      "CPU times: total: 0 ns\n",
      "Wall time: 0 ns\n"
     ]
    }
   ],
   "source": [
    "%%time\n",
    "# List of variables to track the value transformation process\n",
    "trans_vars = []"
   ]
  },
  {
   "cell_type": "markdown",
   "metadata": {},
   "source": [
    "#### 2.3.1. Remapping categorical variables - Decision tree–based remapping"
   ]
  },
  {
   "cell_type": "markdown",
   "metadata": {},
   "source": [
    "#### (a) Test the variable remmaping on a categorical variable"
   ]
  },
  {
   "cell_type": "code",
   "execution_count": 27,
   "metadata": {},
   "outputs": [
    {
     "name": "stdout",
     "output_type": "stream",
     "text": [
      "Best AUC: 0.6469725054163981\n",
      "Best params: {'min_samples_leaf': 160}\n",
      "Number of leaves: 10\n",
      "CPU times: total: 109 ms\n",
      "Wall time: 203 ms\n"
     ]
    }
   ],
   "source": [
    "%%time\n",
    "# Select a cat variable\n",
    "v = \"month\"\n",
    "\n",
    "# Find the best decision tree\n",
    "cv = KFold(n_splits=5, random_state=1, shuffle=True)\n",
    "model = DecisionTreeClassifier()\n",
    "parameters = {'min_samples_leaf':(train.shape[0]*np.array([0.01, 0.025, 0.05, 0.1, 0.25, 0.5])).astype(int)}\n",
    "clf = GridSearchCV(model, parameters, scoring=\"roc_auc\", n_jobs=-1, cv=cv, verbose=0)\n",
    "clf.fit(train[[v]], train[target_var])\n",
    "print(\"Best AUC:\", clf.best_score_)\n",
    "print(\"Best params:\", clf.best_params_)\n",
    "print(\"Number of leaves:\", clf.best_estimator_.get_n_leaves())"
   ]
  },
  {
   "cell_type": "code",
   "execution_count": 28,
   "metadata": {},
   "outputs": [
    {
     "name": "stdout",
     "output_type": "stream",
     "text": [
      "# original categories: 11\n",
      "# new remapped categories: 10 {5, 6, 8, 10, 11, 12, 14, 15, 17, 18}\n",
      "CPU times: total: 141 ms\n",
      "Wall time: 131 ms\n"
     ]
    }
   ],
   "source": [
    "%%time\n",
    "# Grouping the categories into new categories (leaves) using Decision Tree\n",
    "# Here, we use the decision path, the last node is the new segment of an observation\n",
    "remap_v = [np.nonzero(r)[0].max() for r in clf.best_estimator_.decision_path(train[[v]]).toarray()]\n",
    "\n",
    "print(\"# original categories:\", train[[v]].nunique().values[0])\n",
    "print(\"# new remapped categories:\", len(set(remap_v)), set(remap_v))"
   ]
  },
  {
   "cell_type": "markdown",
   "metadata": {},
   "source": [
    "#### (b) Apply the variable remmaping for all categorical variables\n",
    "\n",
    "<u>Note:</u> Only remap the variables if AUC > 0.5 and the number of new categories > 1."
   ]
  },
  {
   "cell_type": "code",
   "execution_count": 29,
   "metadata": {},
   "outputs": [
    {
     "name": "stdout",
     "output_type": "stream",
     "text": [
      "Remapping variable job from 13 to 11 categories\n",
      "Remapping variable marital from 5 to 3 categories\n",
      "Remapping variable education from 9 to 6 categories\n",
      "Remapping variable default from 4 to 3 categories\n",
      "Remapping variable housing from 4 to 2 categories\n",
      "Remapping variable contact from 3 to 3 categories\n",
      "Remapping variable month from 11 to 10 categories\n",
      "Remapping variable day_of_week from 6 to 2 categories\n",
      "Remapping variable poutcome from 4 to 3 categories\n",
      "CPU times: total: 1.86 s\n",
      "Wall time: 2.38 s\n"
     ]
    }
   ],
   "source": [
    "%%time\n",
    "if enable_trans_cat_dt:\n",
    "    for v in cat_vars:\n",
    "        # Find the best decision tree using CV\n",
    "        cv = KFold(n_splits=5, random_state=1, shuffle=True)\n",
    "        model = DecisionTreeClassifier()\n",
    "        parameters = {'min_samples_leaf':(train.shape[0]*np.array([0.01, 0.025, 0.05, 0.1, 0.25, 0.5])).astype(int)}\n",
    "        clf = GridSearchCV(model, parameters, scoring=\"roc_auc\", n_jobs=-1, cv=cv, verbose=0)\n",
    "        clf.fit(train[[v]], train[target_var])\n",
    "        # Remap the variable on train, test\n",
    "        if (clf.best_score_ > 0.5) & (clf.best_estimator_.get_n_leaves() > 1):\n",
    "            print(\"Remapping variable\", v,\n",
    "                  \"from\", train[[v]].nunique().values[0],\n",
    "                  \"to\", clf.best_estimator_.get_n_leaves(), \"categories\")\n",
    "            remap_var = v + '_remap'\n",
    "            trans_vars.append(remap_var)\n",
    "            train[remap_var] = [np.nonzero(r)[0].max() for r in clf.best_estimator_.decision_path(train[[v]]).toarray()]\n",
    "            test[remap_var] = [np.nonzero(r)[0].max() for r in clf.best_estimator_.decision_path(test[[v]]).toarray()]"
   ]
  },
  {
   "cell_type": "code",
   "execution_count": 30,
   "metadata": {},
   "outputs": [
    {
     "name": "stdout",
     "output_type": "stream",
     "text": [
      "Best AUC: 0.6123374926236527\n",
      "Best params: {'min_samples_leaf': 160}\n",
      "Number of leaves: 4\n",
      "CPU times: total: 125 ms\n",
      "Wall time: 131 ms\n"
     ]
    }
   ],
   "source": [
    "%%time\n",
    "# Select a num variable\n",
    "v = \"previous\"\n",
    "\n",
    "# Find the best decision tree\n",
    "cv = KFold(n_splits=5, random_state=1, shuffle=True)\n",
    "model = DecisionTreeClassifier()\n",
    "parameters = {'min_samples_leaf':(train.shape[0]*np.array([0.01, 0.025, 0.05, 0.1, 0.25, 0.5])).astype(int)}\n",
    "clf = GridSearchCV(model, parameters, scoring=\"roc_auc\", n_jobs=-1, cv=cv, verbose=0)\n",
    "clf.fit(train[[v]], train[target_var])\n",
    "print(\"Best AUC:\", clf.best_score_)\n",
    "print(\"Best params:\", clf.best_params_)\n",
    "print(\"Number of leaves:\", clf.best_estimator_.get_n_leaves())"
   ]
  },
  {
   "cell_type": "code",
   "execution_count": 31,
   "metadata": {},
   "outputs": [
    {
     "name": "stdout",
     "output_type": "stream",
     "text": [
      "# original data range:  [0.0, 6.0]\n",
      "# new remapped categories: 4 {3, 4, 5, 6}\n",
      "CPU times: total: 125 ms\n",
      "Wall time: 117 ms\n"
     ]
    }
   ],
   "source": [
    "%%time\n",
    "# Grouping the categories into new categories (leaves) using Decision Tree\n",
    "# Here, we use the decision path, the last node is the new segment of an observation\n",
    "remap_v = [np.nonzero(r)[0].max() for r in clf.best_estimator_.decision_path(train[[v]]).toarray()]\n",
    "\n",
    "print(\"# original data range: \", [train[[v]].min().values[0], train[[v]].max().values[0]])\n",
    "print(\"# new remapped categories:\", len(set(remap_v)), set(remap_v))"
   ]
  },
  {
   "cell_type": "code",
   "execution_count": 32,
   "metadata": {},
   "outputs": [
    {
     "data": {
      "text/plain": [
       "0"
      ]
     },
     "execution_count": 32,
     "metadata": {},
     "output_type": "execute_result"
    }
   ],
   "source": [
    "train.isna().sum().sum()"
   ]
  },
  {
   "cell_type": "code",
   "execution_count": 33,
   "metadata": {},
   "outputs": [
    {
     "data": {
      "text/plain": [
       "Index(['index', 'client_id', 'age', 'campaign', 'pdays', 'previous',\n",
       "       'emp.var.rate', 'cons.price.idx', 'cons.conf.idx', 'euribor3m',\n",
       "       'nr.employed', 'job', 'marital', 'education', 'default', 'housing',\n",
       "       'loan', 'contact', 'month', 'day_of_week', 'poutcome', 'age_na',\n",
       "       'campaign_na', 'pdays_na', 'previous_na', 'emp.var.rate_na',\n",
       "       'cons.price.idx_na', 'cons.conf.idx_na', 'euribor3m_na',\n",
       "       'nr.employed_na', 'subscribe', 'age^2', 'age^3', 'job_remap',\n",
       "       'marital_remap', 'education_remap', 'default_remap', 'housing_remap',\n",
       "       'contact_remap', 'month_remap', 'day_of_week_remap', 'poutcome_remap'],\n",
       "      dtype='object')"
      ]
     },
     "execution_count": 33,
     "metadata": {},
     "output_type": "execute_result"
    }
   ],
   "source": [
    "train[train.isna()==True].columns"
   ]
  },
  {
   "cell_type": "code",
   "execution_count": 34,
   "metadata": {},
   "outputs": [],
   "source": [
    "#Fill na's with mean\n",
    "train[\"age^2\"] = train.fillna(train[\"age^2\"].mean())\n",
    "train[\"age^3\"] = train.fillna(train[\"age^3\"].mean())\n",
    "\n",
    "#for test\n",
    "test[\"age^2\"] = test.fillna(test[\"age^2\"].mean())\n",
    "test[\"age^3\"] = test.fillna(test[\"age^3\"].mean())"
   ]
  },
  {
   "cell_type": "code",
   "execution_count": 35,
   "metadata": {},
   "outputs": [
    {
     "name": "stdout",
     "output_type": "stream",
     "text": [
      "0 0\n"
     ]
    }
   ],
   "source": [
    "print(train.subscribe.isna().sum(),\n",
    "test.subscribe.isna().sum())"
   ]
  },
  {
   "cell_type": "code",
   "execution_count": 36,
   "metadata": {},
   "outputs": [
    {
     "name": "stdout",
     "output_type": "stream",
     "text": [
      "CPU times: total: 0 ns\n",
      "Wall time: 1 ms\n",
      "Discretize variable age from [18.0, 95.0] to 39 categories\n",
      "Discretize variable campaign from [1.0, 56.0] to 7 categories\n",
      "Discretize variable pdays from [0.0, 999.0] to 3 categories\n",
      "Discretize variable previous from [0.0, 6.0] to 4 categories\n",
      "Discretize variable emp.var.rate from [-3.4, 1.4] to 8 categories\n",
      "Discretize variable cons.price.idx from [92.201, 94.767] to 14 categories\n",
      "Discretize variable cons.conf.idx from [-50.8, -26.9] to 15 categories\n",
      "Discretize variable euribor3m from [0.634, 5.045] to 47 categories\n",
      "Discretize variable nr.employed from [4963.6, 5228.1] to 9 categories\n",
      "Discretize variable age^2 from [0.0, 19999.0] to 30 categories\n",
      "Discretize variable age^3 from [0.0, 19999.0] to 30 categories\n"
     ]
    }
   ],
   "source": [
    "# Apply the variable discretizing for all numerical variables\n",
    "\n",
    "%time\n",
    "if enable_trans_num_dt:\n",
    "    for v in num_vars:\n",
    "        # Find the best decision tree using CV\n",
    "        cv = KFold(n_splits=5, random_state=1, shuffle=True)\n",
    "        model = DecisionTreeClassifier()\n",
    "        parameters = {'min_samples_leaf':(train.shape[0]*np.array([0.01, 0.025, 0.05, 0.1, 0.25, 0.5])).astype(int)}\n",
    "        clf = GridSearchCV(model, parameters, scoring=\"roc_auc\", n_jobs=-1, cv=cv, verbose=0)\n",
    "        clf.fit(train[[v]], train[target_var])\n",
    "        # Remap the variable on train, test\n",
    "        if (clf.best_score_ > 0.5) & (clf.best_estimator_.get_n_leaves() > 1):\n",
    "            print(\"Discretize variable\", v,\n",
    "                  \"from\", [train[[v]].min().values[0], train[[v]].max().values[0]],\n",
    "                  \"to\", clf.best_estimator_.get_n_leaves(), \"categories\")\n",
    "            remap_var = v + '_bin'\n",
    "            trans_vars.append(remap_var)\n",
    "            train[remap_var] = [np.nonzero(r)[0].max() for r in clf.best_estimator_.decision_path(train[[v]]).toarray()]\n",
    "            test[remap_var] = [np.nonzero(r)[0].max() for r in clf.best_estimator_.decision_path(test[[v]]).toarray()]"
   ]
  },
  {
   "cell_type": "code",
   "execution_count": 37,
   "metadata": {},
   "outputs": [],
   "source": [
    "# Discretizing (or binning) numerical variables - Equal frequency discretization"
   ]
  },
  {
   "cell_type": "code",
   "execution_count": 38,
   "metadata": {},
   "outputs": [
    {
     "name": "stdout",
     "output_type": "stream",
     "text": [
      "CPU times: total: 0 ns\n",
      "Wall time: 0 ns\n",
      "Number of bins : 10\n"
     ]
    },
    {
     "data": {
      "text/plain": [
       "array([array([18., 28., 31., 33., 36., 38., 41., 45., 49., 55., 95.])],\n",
       "      dtype=object)"
      ]
     },
     "execution_count": 38,
     "metadata": {},
     "output_type": "execute_result"
    }
   ],
   "source": [
    "#Test the variable discretizing on a numerical variable\n",
    "%time\n",
    "# Select a num variable\n",
    "v = \"age\"\n",
    "\n",
    "# Binning values of a variable into new groups using equal frequency approach\n",
    "est = KBinsDiscretizer(n_bins=10, encode='ordinal', strategy='quantile')\n",
    "est.fit(train[[v]])\n",
    "print(\"Number of bins :\", est.n_bins_[0])\n",
    "est.bin_edges_"
   ]
  },
  {
   "cell_type": "code",
   "execution_count": 39,
   "metadata": {},
   "outputs": [
    {
     "name": "stdout",
     "output_type": "stream",
     "text": [
      "CPU times: total: 0 ns\n",
      "Wall time: 4.79 ms\n"
     ]
    },
    {
     "data": {
      "text/plain": [
       "0.0    1232\n",
       "1.0    1593\n",
       "2.0    1428\n",
       "3.0    2052\n",
       "4.0    1287\n",
       "5.0    1675\n",
       "6.0    1731\n",
       "7.0    1542\n",
       "8.0    1838\n",
       "9.0    1622\n",
       "dtype: int64"
      ]
     },
     "execution_count": 39,
     "metadata": {},
     "output_type": "execute_result"
    }
   ],
   "source": [
    "%%time\n",
    "# Apply the binning to a variable\n",
    "binef_v = est.transform(train[[v]])\n",
    "pd.DataFrame(binef_v).value_counts().sort_index()"
   ]
  },
  {
   "cell_type": "code",
   "execution_count": 40,
   "metadata": {},
   "outputs": [
    {
     "name": "stdout",
     "output_type": "stream",
     "text": [
      "CPU times: total: 0 ns\n",
      "Wall time: 0 ns\n"
     ]
    }
   ],
   "source": [
    "import shutup\n",
    "shutup.please()\n",
    "#Apply the variable discretizing for all numerical variables\n",
    "%time\n",
    "if enable_trans_num_ef:\n",
    "    for v in num_vars:\n",
    "        # Binning values of a variable\n",
    "        est = KBinsDiscretizer(n_bins=10, encode='ordinal', strategy='quantile')\n",
    "        est.fit(train[[v]])\n",
    "        # Bin the variable on train, test\n",
    "        if est.n_bins_[0] > 1:\n",
    "            binef_var = v + '_binef'\n",
    "            trans_vars.append(binef_var)\n",
    "            train[binef_var] = est.transform(train[[v]])\n",
    "            test[binef_var] = est.transform(test[[v]])"
   ]
  },
  {
   "cell_type": "markdown",
   "metadata": {},
   "source": [
    "#### 2.3.5. Finalize value transformation\n"
   ]
  },
  {
   "cell_type": "code",
   "execution_count": 41,
   "metadata": {},
   "outputs": [
    {
     "name": "stdout",
     "output_type": "stream",
     "text": [
      "Transformed num, cat variables into # new categorical variables : 30\n",
      "CPU times: total: 0 ns\n",
      "Wall time: 0 ns\n"
     ]
    }
   ],
   "source": [
    "%%time\n",
    "# Finalize the variable list\n",
    "cat_vars = cat_vars + trans_vars\n",
    "print(\"Transformed num, cat variables into # new categorical variables :\", len(trans_vars))"
   ]
  },
  {
   "cell_type": "code",
   "execution_count": 42,
   "metadata": {},
   "outputs": [
    {
     "name": "stdout",
     "output_type": "stream",
     "text": [
      "(16000, 62)\n",
      "(4000, 62)\n",
      "CPU times: total: 15.6 ms\n",
      "Wall time: 17 ms\n"
     ]
    }
   ],
   "source": [
    "%%time\n",
    "# Arrange the data columns\n",
    "train = train[id_var + num_vars + cat_vars + na_vars + target_var]\n",
    "test = test[id_var + num_vars + cat_vars + na_vars + target_var]\n",
    "print(train.shape)\n",
    "print(test.shape)"
   ]
  },
  {
   "cell_type": "markdown",
   "metadata": {},
   "source": [
    "### 2.4. Value representation (cat => num)\n",
    "\n",
    "- Categorical variable: Dummy coding\n",
    "- Categorical variable: Incidence replacement\n",
    "- Categorical variable: Weight of Evidence (WoE) conversion\n",
    "\n",
    "<u>Reference:</u>  \n",
    "\n",
    "- Coussement, K., Lessmann, S., & Verstraeten, G. (2017). A comparative analysis of data preparation algorithms for customer churn prediction: A case study in the telecommunication industry. Decision Support Systems, 95, 27-36."
   ]
  },
  {
   "cell_type": "code",
   "execution_count": 43,
   "metadata": {},
   "outputs": [
    {
     "name": "stdout",
     "output_type": "stream",
     "text": [
      "CPU times: total: 0 ns\n",
      "Wall time: 4 ms\n"
     ]
    },
    {
     "data": {
      "text/plain": [
       "[array([ 0.,  1.,  2.,  3.,  4.,  5.,  6.,  7.,  8.,  9., 10., 11., 12.])]"
      ]
     },
     "execution_count": 43,
     "metadata": {},
     "output_type": "execute_result"
    }
   ],
   "source": [
    "%%time\n",
    "# Select a cat variable\n",
    "v = \"job\"\n",
    "\n",
    "# Build the dummy encoding on [Var194]\n",
    "enc = OneHotEncoder(drop=\"first\", handle_unknown=\"error\")\n",
    "enc.fit(pd.concat([train[[v]], test[[v]]], axis=0))\n",
    "enc.categories_"
   ]
  },
  {
   "cell_type": "code",
   "execution_count": 44,
   "metadata": {},
   "outputs": [
    {
     "name": "stdout",
     "output_type": "stream",
     "text": [
      "0\n"
     ]
    }
   ],
   "source": [
    "print(train.subscribe.isna().sum())"
   ]
  },
  {
   "cell_type": "code",
   "execution_count": 45,
   "metadata": {},
   "outputs": [
    {
     "name": "stdout",
     "output_type": "stream",
     "text": [
      "CPU times: total: 0 ns\n",
      "Wall time: 5 ms\n"
     ]
    },
    {
     "data": {
      "text/plain": [
       "array([[1., 0., 0., ..., 0., 0., 0.],\n",
       "       [1., 0., 0., ..., 0., 0., 0.],\n",
       "       [0., 0., 0., ..., 1., 0., 0.],\n",
       "       ...,\n",
       "       [0., 0., 0., ..., 1., 0., 0.],\n",
       "       [0., 0., 0., ..., 0., 0., 0.],\n",
       "       [0., 0., 1., ..., 0., 0., 0.]])"
      ]
     },
     "execution_count": 45,
     "metadata": {},
     "output_type": "execute_result"
    }
   ],
   "source": [
    "%%time\n",
    "# Transform a categorical variable\n",
    "dummy_v = enc.transform(train[[v]])\n",
    "dummy_v.toarray()"
   ]
  },
  {
   "cell_type": "code",
   "execution_count": 46,
   "metadata": {},
   "outputs": [
    {
     "name": "stdout",
     "output_type": "stream",
     "text": [
      "CPU times: total: 141 ms\n",
      "Wall time: 142 ms\n"
     ]
    }
   ],
   "source": [
    "%%time\n",
    "\n",
    "# List of variables to track the value representation process\n",
    "repr_vars = []\n",
    "dummy_vars = []\n",
    "\n",
    "if enable_repr_dummy:\n",
    "    # Create dummy variables, drop the first dummy column\n",
    "    enc = OneHotEncoder(drop=\"first\", handle_unknown=\"error\")\n",
    "    enc.fit(pd.concat([train[cat_vars], test[cat_vars]], axis=0))\n",
    "    dummy_vars = enc.get_feature_names().tolist()\n",
    "    repr_vars = repr_vars + dummy_vars\n",
    "    # Transform train, test\n",
    "    train_dummy = enc.transform(train[cat_vars])\n",
    "    test_dummy = enc.transform(test[cat_vars])"
   ]
  },
  {
   "cell_type": "code",
   "execution_count": 47,
   "metadata": {},
   "outputs": [
    {
     "name": "stdout",
     "output_type": "stream",
     "text": [
      "CPU times: total: 172 ms\n",
      "Wall time: 169 ms\n"
     ]
    }
   ],
   "source": [
    "%%time\n",
    "if enable_repr_dummy:\n",
    "    # Create dummy variables, drop the first dummy column\n",
    "    enc = OneHotEncoder(drop=\"first\", handle_unknown=\"error\")\n",
    "    enc.fit(pd.concat([train[cat_vars], test[cat_vars]], axis=0))\n",
    "    dummy_vars = enc.get_feature_names().tolist()\n",
    "    repr_vars = repr_vars + dummy_vars\n",
    "    # Transform train, test\n",
    "    train_dummy = enc.transform(train[cat_vars])\n",
    "    test_dummy = enc.transform(test[cat_vars])"
   ]
  },
  {
   "cell_type": "markdown",
   "metadata": {},
   "source": [
    "#### 2.4.2. Incidence (of target variable) replacement"
   ]
  },
  {
   "cell_type": "code",
   "execution_count": 48,
   "metadata": {},
   "outputs": [],
   "source": [
    "#Test the value representation on a categorical variable"
   ]
  },
  {
   "cell_type": "code",
   "execution_count": 49,
   "metadata": {},
   "outputs": [
    {
     "name": "stdout",
     "output_type": "stream",
     "text": [
      "CPU times: total: 31.2 ms\n",
      "Wall time: 9 ms\n"
     ]
    },
    {
     "data": {
      "text/html": [
       "<div>\n",
       "<style scoped>\n",
       "    .dataframe tbody tr th:only-of-type {\n",
       "        vertical-align: middle;\n",
       "    }\n",
       "\n",
       "    .dataframe tbody tr th {\n",
       "        vertical-align: top;\n",
       "    }\n",
       "\n",
       "    .dataframe thead th {\n",
       "        text-align: right;\n",
       "    }\n",
       "</style>\n",
       "<table border=\"1\" class=\"dataframe\">\n",
       "  <thead>\n",
       "    <tr style=\"text-align: right;\">\n",
       "      <th></th>\n",
       "      <th>job</th>\n",
       "      <th>job_icd</th>\n",
       "    </tr>\n",
       "  </thead>\n",
       "  <tbody>\n",
       "    <tr>\n",
       "      <th>0</th>\n",
       "      <td>0.0</td>\n",
       "      <td>0.105263</td>\n",
       "    </tr>\n",
       "    <tr>\n",
       "      <th>1</th>\n",
       "      <td>1.0</td>\n",
       "      <td>0.126347</td>\n",
       "    </tr>\n",
       "    <tr>\n",
       "      <th>2</th>\n",
       "      <td>2.0</td>\n",
       "      <td>0.070516</td>\n",
       "    </tr>\n",
       "    <tr>\n",
       "      <th>3</th>\n",
       "      <td>3.0</td>\n",
       "      <td>0.091241</td>\n",
       "    </tr>\n",
       "    <tr>\n",
       "      <th>4</th>\n",
       "      <td>4.0</td>\n",
       "      <td>0.108235</td>\n",
       "    </tr>\n",
       "    <tr>\n",
       "      <th>5</th>\n",
       "      <td>5.0</td>\n",
       "      <td>0.125445</td>\n",
       "    </tr>\n",
       "    <tr>\n",
       "      <th>6</th>\n",
       "      <td>6.0</td>\n",
       "      <td>0.254464</td>\n",
       "    </tr>\n",
       "    <tr>\n",
       "      <th>7</th>\n",
       "      <td>7.0</td>\n",
       "      <td>0.097518</td>\n",
       "    </tr>\n",
       "    <tr>\n",
       "      <th>8</th>\n",
       "      <td>8.0</td>\n",
       "      <td>0.080921</td>\n",
       "    </tr>\n",
       "    <tr>\n",
       "      <th>9</th>\n",
       "      <td>9.0</td>\n",
       "      <td>0.313846</td>\n",
       "    </tr>\n",
       "    <tr>\n",
       "      <th>10</th>\n",
       "      <td>10.0</td>\n",
       "      <td>0.108098</td>\n",
       "    </tr>\n",
       "    <tr>\n",
       "      <th>11</th>\n",
       "      <td>11.0</td>\n",
       "      <td>0.149171</td>\n",
       "    </tr>\n",
       "    <tr>\n",
       "      <th>12</th>\n",
       "      <td>12.0</td>\n",
       "      <td>0.169492</td>\n",
       "    </tr>\n",
       "  </tbody>\n",
       "</table>\n",
       "</div>"
      ],
      "text/plain": [
       "     job   job_icd\n",
       "0    0.0  0.105263\n",
       "1    1.0  0.126347\n",
       "2    2.0  0.070516\n",
       "3    3.0  0.091241\n",
       "4    4.0  0.108235\n",
       "5    5.0  0.125445\n",
       "6    6.0  0.254464\n",
       "7    7.0  0.097518\n",
       "8    8.0  0.080921\n",
       "9    9.0  0.313846\n",
       "10  10.0  0.108098\n",
       "11  11.0  0.149171\n",
       "12  12.0  0.169492"
      ]
     },
     "execution_count": 49,
     "metadata": {},
     "output_type": "execute_result"
    }
   ],
   "source": [
    "%%time\n",
    "# Select a variable\n",
    "v = \"job\"\n",
    "\n",
    "# Find the incidence rates per category of a categorical variable\n",
    "tb = pd.pivot_table(train, values=target_var, index=v, aggfunc=np.mean).reset_index()\n",
    "tb.columns = [v, v + \"_icd\"]\n",
    "tb"
   ]
  },
  {
   "cell_type": "code",
   "execution_count": 50,
   "metadata": {},
   "outputs": [
    {
     "name": "stdout",
     "output_type": "stream",
     "text": [
      "CPU times: total: 15.6 ms\n",
      "Wall time: 8 ms\n"
     ]
    },
    {
     "data": {
      "text/html": [
       "<div>\n",
       "<style scoped>\n",
       "    .dataframe tbody tr th:only-of-type {\n",
       "        vertical-align: middle;\n",
       "    }\n",
       "\n",
       "    .dataframe tbody tr th {\n",
       "        vertical-align: top;\n",
       "    }\n",
       "\n",
       "    .dataframe thead th {\n",
       "        text-align: right;\n",
       "    }\n",
       "</style>\n",
       "<table border=\"1\" class=\"dataframe\">\n",
       "  <thead>\n",
       "    <tr style=\"text-align: right;\">\n",
       "      <th></th>\n",
       "      <th>job</th>\n",
       "      <th>job_icd</th>\n",
       "    </tr>\n",
       "  </thead>\n",
       "  <tbody>\n",
       "    <tr>\n",
       "      <th>0</th>\n",
       "      <td>1.0</td>\n",
       "      <td>0.126347</td>\n",
       "    </tr>\n",
       "    <tr>\n",
       "      <th>1</th>\n",
       "      <td>1.0</td>\n",
       "      <td>0.126347</td>\n",
       "    </tr>\n",
       "    <tr>\n",
       "      <th>2</th>\n",
       "      <td>1.0</td>\n",
       "      <td>0.126347</td>\n",
       "    </tr>\n",
       "    <tr>\n",
       "      <th>3</th>\n",
       "      <td>1.0</td>\n",
       "      <td>0.126347</td>\n",
       "    </tr>\n",
       "    <tr>\n",
       "      <th>4</th>\n",
       "      <td>1.0</td>\n",
       "      <td>0.126347</td>\n",
       "    </tr>\n",
       "  </tbody>\n",
       "</table>\n",
       "</div>"
      ],
      "text/plain": [
       "   job   job_icd\n",
       "0  1.0  0.126347\n",
       "1  1.0  0.126347\n",
       "2  1.0  0.126347\n",
       "3  1.0  0.126347\n",
       "4  1.0  0.126347"
      ]
     },
     "execution_count": 50,
     "metadata": {},
     "output_type": "execute_result"
    }
   ],
   "source": [
    "%%time\n",
    "# Add/join the incidence variable\n",
    "pd.merge(train[[v]], tb, on=v).head()"
   ]
  },
  {
   "cell_type": "code",
   "execution_count": 51,
   "metadata": {},
   "outputs": [
    {
     "data": {
      "text/plain": [
       "0        32\n",
       "1        10\n",
       "2        30\n",
       "3         5\n",
       "4        55\n",
       "         ..\n",
       "15995    28\n",
       "15996    18\n",
       "15997    32\n",
       "15998     5\n",
       "15999    23\n",
       "Name: age_bin, Length: 16000, dtype: int64"
      ]
     },
     "execution_count": 51,
     "metadata": {},
     "output_type": "execute_result"
    }
   ],
   "source": [
    "train.age_bin"
   ]
  },
  {
   "cell_type": "code",
   "execution_count": 52,
   "metadata": {},
   "outputs": [
    {
     "name": "stdout",
     "output_type": "stream",
     "text": [
      "CPU times: total: 1.09 s\n",
      "Wall time: 1.11 s\n"
     ]
    }
   ],
   "source": [
    "%%time\n",
    "if enable_repr_icd:\n",
    "    for v in cat_vars:\n",
    "        # Find the incidence rates per category of a categorical variable\n",
    "        tb = pd.pivot_table(train, values=target_var, index=v, aggfunc=np.mean).reset_index()\n",
    "        icd_var = v + \"_icd\"\n",
    "        repr_vars.append(icd_var)\n",
    "        tb.columns = [v, icd_var]\n",
    "        # Add the incidence column to train, test\n",
    "        train[icd_var] = pd.merge(train[[v]], tb, on=v)[icd_var]\n",
    "        test[icd_var] = pd.merge(test[[v]], tb, on=v)[icd_var]"
   ]
  },
  {
   "cell_type": "markdown",
   "metadata": {},
   "source": [
    "#### 2.4.3. Weight-of-Evidence (WoE) conversion"
   ]
  },
  {
   "cell_type": "code",
   "execution_count": 53,
   "metadata": {},
   "outputs": [
    {
     "name": "stdout",
     "output_type": "stream",
     "text": [
      "CPU times: total: 15.6 ms\n",
      "Wall time: 15.7 ms\n"
     ]
    },
    {
     "data": {
      "text/html": [
       "<div>\n",
       "<style scoped>\n",
       "    .dataframe tbody tr th:only-of-type {\n",
       "        vertical-align: middle;\n",
       "    }\n",
       "\n",
       "    .dataframe tbody tr th {\n",
       "        vertical-align: top;\n",
       "    }\n",
       "\n",
       "    .dataframe thead th {\n",
       "        text-align: right;\n",
       "    }\n",
       "</style>\n",
       "<table border=\"1\" class=\"dataframe\">\n",
       "  <thead>\n",
       "    <tr style=\"text-align: right;\">\n",
       "      <th>subscribe</th>\n",
       "      <th>job</th>\n",
       "      <th>0</th>\n",
       "      <th>1</th>\n",
       "      <th>job_woe</th>\n",
       "    </tr>\n",
       "  </thead>\n",
       "  <tbody>\n",
       "    <tr>\n",
       "      <th>0</th>\n",
       "      <td>0.0</td>\n",
       "      <td>119</td>\n",
       "      <td>14</td>\n",
       "      <td>-2.140066</td>\n",
       "    </tr>\n",
       "    <tr>\n",
       "      <th>1</th>\n",
       "      <td>1.0</td>\n",
       "      <td>3485</td>\n",
       "      <td>504</td>\n",
       "      <td>-1.933647</td>\n",
       "    </tr>\n",
       "    <tr>\n",
       "      <th>2</th>\n",
       "      <td>2.0</td>\n",
       "      <td>3348</td>\n",
       "      <td>254</td>\n",
       "      <td>-2.578784</td>\n",
       "    </tr>\n",
       "    <tr>\n",
       "      <th>3</th>\n",
       "      <td>3.0</td>\n",
       "      <td>498</td>\n",
       "      <td>50</td>\n",
       "      <td>-2.298577</td>\n",
       "    </tr>\n",
       "    <tr>\n",
       "      <th>4</th>\n",
       "      <td>4.0</td>\n",
       "      <td>379</td>\n",
       "      <td>46</td>\n",
       "      <td>-2.108895</td>\n",
       "    </tr>\n",
       "    <tr>\n",
       "      <th>5</th>\n",
       "      <td>5.0</td>\n",
       "      <td>983</td>\n",
       "      <td>141</td>\n",
       "      <td>-1.941849</td>\n",
       "    </tr>\n",
       "    <tr>\n",
       "      <th>6</th>\n",
       "      <td>6.0</td>\n",
       "      <td>501</td>\n",
       "      <td>171</td>\n",
       "      <td>-1.074943</td>\n",
       "    </tr>\n",
       "    <tr>\n",
       "      <th>7</th>\n",
       "      <td>7.0</td>\n",
       "      <td>509</td>\n",
       "      <td>55</td>\n",
       "      <td>-2.225115</td>\n",
       "    </tr>\n",
       "    <tr>\n",
       "      <th>8</th>\n",
       "      <td>8.0</td>\n",
       "      <td>1397</td>\n",
       "      <td>123</td>\n",
       "      <td>-2.429898</td>\n",
       "    </tr>\n",
       "    <tr>\n",
       "      <th>9</th>\n",
       "      <td>9.0</td>\n",
       "      <td>223</td>\n",
       "      <td>102</td>\n",
       "      <td>-0.782199</td>\n",
       "    </tr>\n",
       "    <tr>\n",
       "      <th>10</th>\n",
       "      <td>10.0</td>\n",
       "      <td>2335</td>\n",
       "      <td>283</td>\n",
       "      <td>-2.110320</td>\n",
       "    </tr>\n",
       "    <tr>\n",
       "      <th>11</th>\n",
       "      <td>11.0</td>\n",
       "      <td>308</td>\n",
       "      <td>54</td>\n",
       "      <td>-1.741116</td>\n",
       "    </tr>\n",
       "    <tr>\n",
       "      <th>12</th>\n",
       "      <td>12.0</td>\n",
       "      <td>98</td>\n",
       "      <td>20</td>\n",
       "      <td>-1.589235</td>\n",
       "    </tr>\n",
       "  </tbody>\n",
       "</table>\n",
       "</div>"
      ],
      "text/plain": [
       "subscribe   job     0    1   job_woe\n",
       "0           0.0   119   14 -2.140066\n",
       "1           1.0  3485  504 -1.933647\n",
       "2           2.0  3348  254 -2.578784\n",
       "3           3.0   498   50 -2.298577\n",
       "4           4.0   379   46 -2.108895\n",
       "5           5.0   983  141 -1.941849\n",
       "6           6.0   501  171 -1.074943\n",
       "7           7.0   509   55 -2.225115\n",
       "8           8.0  1397  123 -2.429898\n",
       "9           9.0   223  102 -0.782199\n",
       "10         10.0  2335  283 -2.110320\n",
       "11         11.0   308   54 -1.741116\n",
       "12         12.0    98   20 -1.589235"
      ]
     },
     "execution_count": 53,
     "metadata": {},
     "output_type": "execute_result"
    }
   ],
   "source": [
    "%%time\n",
    "# Select a variable\n",
    "v = \"job\"\n",
    "\n",
    "# Find the incidence rates per category of a categorical variable\n",
    "# Add +1 before calculating the log to avoid +/-Inf\n",
    "tb = train[[v] + target_var].value_counts().unstack(fill_value=0).reset_index()\n",
    "e = 1e-10  # Small value\n",
    "tb[v + \"_woe\"] = np.log((tb[1] + e) / (tb[0] + e))\n",
    "tb"
   ]
  },
  {
   "cell_type": "code",
   "execution_count": 54,
   "metadata": {},
   "outputs": [
    {
     "name": "stdout",
     "output_type": "stream",
     "text": [
      "CPU times: total: 31.2 ms\n",
      "Wall time: 10.2 ms\n"
     ]
    },
    {
     "data": {
      "text/html": [
       "<div>\n",
       "<style scoped>\n",
       "    .dataframe tbody tr th:only-of-type {\n",
       "        vertical-align: middle;\n",
       "    }\n",
       "\n",
       "    .dataframe tbody tr th {\n",
       "        vertical-align: top;\n",
       "    }\n",
       "\n",
       "    .dataframe thead th {\n",
       "        text-align: right;\n",
       "    }\n",
       "</style>\n",
       "<table border=\"1\" class=\"dataframe\">\n",
       "  <thead>\n",
       "    <tr style=\"text-align: right;\">\n",
       "      <th></th>\n",
       "      <th>job</th>\n",
       "      <th>job_woe</th>\n",
       "    </tr>\n",
       "  </thead>\n",
       "  <tbody>\n",
       "    <tr>\n",
       "      <th>0</th>\n",
       "      <td>1.0</td>\n",
       "      <td>-1.933647</td>\n",
       "    </tr>\n",
       "    <tr>\n",
       "      <th>1</th>\n",
       "      <td>1.0</td>\n",
       "      <td>-1.933647</td>\n",
       "    </tr>\n",
       "    <tr>\n",
       "      <th>2</th>\n",
       "      <td>1.0</td>\n",
       "      <td>-1.933647</td>\n",
       "    </tr>\n",
       "    <tr>\n",
       "      <th>3</th>\n",
       "      <td>1.0</td>\n",
       "      <td>-1.933647</td>\n",
       "    </tr>\n",
       "    <tr>\n",
       "      <th>4</th>\n",
       "      <td>1.0</td>\n",
       "      <td>-1.933647</td>\n",
       "    </tr>\n",
       "  </tbody>\n",
       "</table>\n",
       "</div>"
      ],
      "text/plain": [
       "   job   job_woe\n",
       "0  1.0 -1.933647\n",
       "1  1.0 -1.933647\n",
       "2  1.0 -1.933647\n",
       "3  1.0 -1.933647\n",
       "4  1.0 -1.933647"
      ]
     },
     "execution_count": 54,
     "metadata": {},
     "output_type": "execute_result"
    }
   ],
   "source": [
    "%%time\n",
    "# Add/join the WoE variable\n",
    "pd.merge(train[[v]], tb[[v, v + \"_woe\"]], on=v).head()"
   ]
  },
  {
   "cell_type": "markdown",
   "metadata": {},
   "source": [
    "#### (b) Apply the value representation for all categorical variables"
   ]
  },
  {
   "cell_type": "code",
   "execution_count": 55,
   "metadata": {},
   "outputs": [
    {
     "name": "stdout",
     "output_type": "stream",
     "text": [
      "CPU times: total: 953 ms\n",
      "Wall time: 967 ms\n"
     ]
    }
   ],
   "source": [
    "%%time\n",
    "# TODO: More efficient implementation\n",
    "if enable_repr_woe:\n",
    "    for v in cat_vars:\n",
    "        # Find the WoE per category of a categorical variable\n",
    "        tb = train[[v] + target_var].value_counts().unstack(fill_value=0).reset_index()\n",
    "        woe_var = v + \"_woe\"\n",
    "        repr_vars.append(woe_var)\n",
    "        e = 1e-10  # Small value\n",
    "        tb[woe_var] = np.log((tb[1] + e) / (tb[0] + e))\n",
    "        # Add the incidence column to train, test\n",
    "        train[woe_var] = pd.merge(train[[v]], tb[[v, woe_var]], on=v)[woe_var]\n",
    "        test[woe_var] = pd.merge(test[[v]], tb[[v, woe_var]], on=v)[woe_var]"
   ]
  },
  {
   "cell_type": "markdown",
   "metadata": {},
   "source": [
    "#### 2.4.3. Finalize value representation "
   ]
  },
  {
   "cell_type": "code",
   "execution_count": 56,
   "metadata": {},
   "outputs": [
    {
     "name": "stdout",
     "output_type": "stream",
     "text": [
      "0\n",
      "0\n"
     ]
    }
   ],
   "source": [
    "print(train.subscribe.isna().sum())\n",
    "print(test.subscribe.isna().sum())"
   ]
  },
  {
   "cell_type": "code",
   "execution_count": 57,
   "metadata": {},
   "outputs": [
    {
     "name": "stdout",
     "output_type": "stream",
     "text": [
      "CPU times: total: 62.5 ms\n",
      "Wall time: 30.9 ms\n"
     ]
    }
   ],
   "source": [
    "%%time\n",
    "# Drop cat vars\n",
    "if drop_cat_vars:\n",
    "    train = train.drop(cat_vars, axis=1)\n",
    "    test = test.drop(cat_vars, axis=1)\n",
    "    cat_vars = []"
   ]
  },
  {
   "cell_type": "code",
   "execution_count": 58,
   "metadata": {},
   "outputs": [
    {
     "name": "stdout",
     "output_type": "stream",
     "text": [
      "0\n"
     ]
    }
   ],
   "source": [
    "print(train.subscribe.isna().sum())"
   ]
  },
  {
   "cell_type": "code",
   "execution_count": 59,
   "metadata": {},
   "outputs": [
    {
     "data": {
      "text/plain": [
       "RangeIndex(start=0, stop=16000, step=1)"
      ]
     },
     "execution_count": 59,
     "metadata": {},
     "output_type": "execute_result"
    }
   ],
   "source": [
    "train.index"
   ]
  },
  {
   "cell_type": "code",
   "execution_count": 60,
   "metadata": {},
   "outputs": [
    {
     "data": {
      "text/plain": [
       "(16000, 345)"
      ]
     },
     "execution_count": 60,
     "metadata": {},
     "output_type": "execute_result"
    }
   ],
   "source": [
    "train_dummy.shape"
   ]
  },
  {
   "cell_type": "code",
   "execution_count": 61,
   "metadata": {},
   "outputs": [
    {
     "name": "stdout",
     "output_type": "stream",
     "text": [
      "CPU times: total: 78.1 ms\n",
      "Wall time: 84.5 ms\n"
     ]
    }
   ],
   "source": [
    "%%time\n",
    "# Add dummy variables\n",
    "if enable_repr_dummy:\n",
    "    train = pd.concat([train, pd.DataFrame(train_dummy.toarray(), columns=dummy_vars)], axis=1)\n",
    "    test = pd.concat([test, pd.DataFrame(test_dummy.toarray(), columns=dummy_vars)], axis=1)\n",
    "    del train_dummy, test_dummy"
   ]
  },
  {
   "cell_type": "markdown",
   "metadata": {},
   "source": [
    "#### (b) Impute missing values created by value representation\n",
    "\n",
    "During the value representation process, if the categorical variables have new categories on test, the represented values might be missing on test data. Therefore, it is necessary to correct again here."
   ]
  },
  {
   "cell_type": "code",
   "execution_count": 62,
   "metadata": {},
   "outputs": [
    {
     "name": "stdout",
     "output_type": "stream",
     "text": [
      "0\n"
     ]
    }
   ],
   "source": [
    "print(train.subscribe.isna().sum())"
   ]
  },
  {
   "cell_type": "code",
   "execution_count": 63,
   "metadata": {},
   "outputs": [
    {
     "name": "stdout",
     "output_type": "stream",
     "text": [
      "Index(['client_id', 'age', 'campaign', 'pdays', 'previous', 'emp.var.rate',\n",
      "       'cons.price.idx', 'cons.conf.idx', 'euribor3m', 'nr.employed',\n",
      "       ...\n",
      "       'x38_9.0', 'x39_1.0', 'x39_2.0', 'x39_3.0', 'x39_4.0', 'x39_5.0',\n",
      "       'x39_6.0', 'x39_7.0', 'x39_8.0', 'x39_9.0'],\n",
      "      dtype='object', length=447)\n"
     ]
    }
   ],
   "source": [
    "print(train.columns)"
   ]
  },
  {
   "cell_type": "code",
   "execution_count": 64,
   "metadata": {},
   "outputs": [
    {
     "name": "stdout",
     "output_type": "stream",
     "text": [
      "CPU times: total: 688 ms\n",
      "Wall time: 650 ms\n"
     ]
    }
   ],
   "source": [
    "%%time\n",
    "# Impute new missing values on test using the mean on train\n",
    "if len(repr_vars) > 0:\n",
    "    imp = SimpleImputer(missing_values=np.nan, strategy='mean', add_indicator=True)\n",
    "    imp.fit(train[repr_vars])\n",
    "    test[repr_vars] = pd.DataFrame(imp.transform(test[repr_vars]), columns=repr_vars)"
   ]
  },
  {
   "cell_type": "code",
   "execution_count": 65,
   "metadata": {},
   "outputs": [
    {
     "data": {
      "text/plain": [
       "(4000, 770)"
      ]
     },
     "execution_count": 65,
     "metadata": {},
     "output_type": "execute_result"
    }
   ],
   "source": [
    "test[repr_vars].shape"
   ]
  },
  {
   "cell_type": "code",
   "execution_count": 66,
   "metadata": {},
   "outputs": [
    {
     "data": {
      "text/plain": [
       "770"
      ]
     },
     "execution_count": 66,
     "metadata": {},
     "output_type": "execute_result"
    }
   ],
   "source": [
    "len(repr_vars)"
   ]
  },
  {
   "cell_type": "markdown",
   "metadata": {},
   "source": [
    "#### (c) Finalize the variables list\n"
   ]
  },
  {
   "cell_type": "code",
   "execution_count": 67,
   "metadata": {},
   "outputs": [
    {
     "name": "stdout",
     "output_type": "stream",
     "text": [
      "Represented cat variables with # new num variables : 770\n",
      "CPU times: total: 0 ns\n",
      "Wall time: 0 ns\n"
     ]
    }
   ],
   "source": [
    "%%time\n",
    "# Combine the variable list\n",
    "num_vars = num_vars + repr_vars\n",
    "print(\"Represented cat variables with # new num variables :\", len(repr_vars))"
   ]
  },
  {
   "cell_type": "code",
   "execution_count": 68,
   "metadata": {},
   "outputs": [
    {
     "name": "stdout",
     "output_type": "stream",
     "text": [
      "(16000, 792)\n",
      "(4000, 792)\n",
      "CPU times: total: 46.9 ms\n",
      "Wall time: 45.5 ms\n"
     ]
    }
   ],
   "source": [
    "%%time\n",
    "# Arrange the data columns\n",
    "train = train[id_var + num_vars + cat_vars + na_vars + target_var]\n",
    "test = test[id_var + num_vars + cat_vars + na_vars + target_var]\n",
    "print(train.shape)\n",
    "print(test.shape)"
   ]
  },
  {
   "cell_type": "code",
   "execution_count": 69,
   "metadata": {},
   "outputs": [
    {
     "name": "stdout",
     "output_type": "stream",
     "text": [
      "CPU times: total: 0 ns\n",
      "Wall time: 0 ns\n"
     ]
    }
   ],
   "source": [
    "##### (a) Data normalization - Numerical variables\n",
    "%time\n",
    "# TODO: More efficient implementation\n",
    "if enable_normalize:\n",
    "    for v in num_vars:\n",
    "        # Build the normalizer on train\n",
    "        scaler = MinMaxScaler().fit(train[[v]])\n",
    "        # Apply on train, test\n",
    "        train[v] = scaler.transform(train[[v]])\n",
    "        test[v] = scaler.transform(test[[v]])"
   ]
  },
  {
   "cell_type": "code",
   "execution_count": 70,
   "metadata": {},
   "outputs": [
    {
     "name": "stdout",
     "output_type": "stream",
     "text": [
      "CPU times: total: 0 ns\n",
      "Wall time: 0 ns\n"
     ]
    }
   ],
   "source": [
    "#####  (b) Filter out low variance variables (or constant)\n",
    "%time\n",
    "\n",
    "# List of all predictors\n",
    "predictors = num_vars + cat_vars + na_vars"
   ]
  },
  {
   "cell_type": "code",
   "execution_count": 71,
   "metadata": {},
   "outputs": [
    {
     "name": "stdout",
     "output_type": "stream",
     "text": [
      "Drop # constant vars : 0\n",
      "CPU times: total: 453 ms\n",
      "Wall time: 456 ms\n"
     ]
    }
   ],
   "source": [
    "%%time\n",
    "# Detect constant vars\n",
    "sel = VarianceThreshold(0)  # Var = 0 by default\n",
    "sel.fit(train[predictors])\n",
    "const_vars = [predictors[i] for i in np.where(sel.variances_ == 0)[0]]\n",
    "predictors = [v for v in predictors if v not in const_vars]\n",
    "\n",
    "# Drop from train, test\n",
    "print('Drop # constant vars :', len(const_vars))\n",
    "train = train.drop(const_vars, axis=1)\n",
    "test = test.drop(const_vars, axis=1)"
   ]
  },
  {
   "cell_type": "code",
   "execution_count": 72,
   "metadata": {},
   "outputs": [
    {
     "name": "stdout",
     "output_type": "stream",
     "text": [
      "CPU times: total: 0 ns\n",
      "Wall time: 0 ns\n",
      "# duplicated vars : 1118\n"
     ]
    }
   ],
   "source": [
    "# drop duplicates\n",
    "%time\n",
    "# Count the duplicated vars\n",
    "dup_vars = train[predictors].T.duplicated()\n",
    "print('# duplicated vars :', dup_vars.sum())"
   ]
  },
  {
   "cell_type": "code",
   "execution_count": 73,
   "metadata": {},
   "outputs": [
    {
     "name": "stdout",
     "output_type": "stream",
     "text": [
      "CPU times: total: 31.2 ms\n",
      "Wall time: 32.5 ms\n"
     ]
    }
   ],
   "source": [
    "%%time\n",
    "# Drop the duplicated vars from train, test\n",
    "predictors = [predictors[i] for i in range(0, len(predictors)) if not dup_vars[i]]\n",
    "train = train[id_var + predictors + target_var]\n",
    "test = test[id_var + predictors + target_var]"
   ]
  },
  {
   "cell_type": "code",
   "execution_count": 74,
   "metadata": {},
   "outputs": [
    {
     "name": "stdout",
     "output_type": "stream",
     "text": [
      "(16000, 556)\n",
      "(4000, 556)\n",
      "CPU times: total: 0 ns\n",
      "Wall time: 0 ns\n"
     ]
    }
   ],
   "source": [
    "%%time\n",
    "# Print out the data to check\n",
    "print(train.shape)\n",
    "print(test.shape)"
   ]
  },
  {
   "cell_type": "code",
   "execution_count": 118,
   "metadata": {},
   "outputs": [],
   "source": [
    "base_table = pd.concat([train, test]).reset_index(drop=True)\n",
    "data.to_csv(\"../interm/base_table_without_feature_eng.csv\")\n",
    "base_table.to_csv(\"../interm/base_table_with_feature_eng.csv\")"
   ]
  },
  {
   "cell_type": "markdown",
   "metadata": {},
   "source": [
    "### 2.6. Variable selection\n",
    "\n",
    "<u>Reference:</u>  \n",
    "\n",
    "- Verbeke, W., Dejaeger, K., Martens, D., Hur, J., & Baesens, B. (2012). New insights into churn prediction in the telecommunication sector: A profit driven data mining approach. European Journal of Operational Research, 218(1), 211-229."
   ]
  },
  {
   "cell_type": "code",
   "execution_count": 75,
   "metadata": {},
   "outputs": [
    {
     "name": "stdout",
     "output_type": "stream",
     "text": [
      "CPU times: total: 0 ns\n",
      "Wall time: 1.04 ms\n"
     ]
    }
   ],
   "source": [
    "%%time\n",
    "# Create several lists to handle variables\n",
    "id_var = ['client_id']\n",
    "target_var = ['subscribe']\n",
    "predictors = [v for v in train.columns if v not in id_var + target_var]"
   ]
  },
  {
   "cell_type": "code",
   "execution_count": 76,
   "metadata": {},
   "outputs": [
    {
     "name": "stdout",
     "output_type": "stream",
     "text": [
      "CPU times: total: 0 ns\n",
      "Wall time: 0 ns\n"
     ]
    }
   ],
   "source": [
    "%%time\n",
    "\n",
    "#Fisher Score\n",
    "def FisherScore(bt, target_var, predictors):\n",
    "    \"\"\"\n",
    "    This function calculate the Fisher score of a variable.\n",
    "\n",
    "    Ref:\n",
    "    ---\n",
    "    Verbeke, W., Dejaeger, K., Martens, D., Hur, J., & Baesens, B. (2012). New insights\n",
    "    into churn prediction in the telecommunication sector: A profit driven data mining\n",
    "    approach. European Journal of Operational Research, 218(1), 211-229.\n",
    "    \"\"\"\n",
    "    \n",
    "    # Get the unique values of dependent variable\n",
    "    target_var_val = bt[target_var].unique()\n",
    "    # Calculate FisherScore for each predictor\n",
    "    predictor_FisherScore = []\n",
    "    for v in predictors:\n",
    "        fs = np.abs(np.mean(bt.loc[bt[target_var]==target_var_val[0], v]) - np.mean(bt.loc[bt[target_var]==target_var_val[1], v])) / \\\n",
    "             np.sqrt(np.var(bt.loc[bt[target_var]==target_var_val[0], v]) + np.var(bt.loc[bt[target_var]==target_var_val[1], v]))\n",
    "        predictor_FisherScore.append(fs)\n",
    "    return predictor_FisherScore"
   ]
  },
  {
   "cell_type": "code",
   "execution_count": 77,
   "metadata": {},
   "outputs": [],
   "source": [
    "pd.set_option('display.max_rows', 100)"
   ]
  },
  {
   "cell_type": "code",
   "execution_count": 78,
   "metadata": {},
   "outputs": [
    {
     "name": "stdout",
     "output_type": "stream",
     "text": [
      "CPU times: total: 5.95 s\n",
      "Wall time: 6.24 s\n"
     ]
    },
    {
     "data": {
      "text/html": [
       "<div>\n",
       "<style scoped>\n",
       "    .dataframe tbody tr th:only-of-type {\n",
       "        vertical-align: middle;\n",
       "    }\n",
       "\n",
       "    .dataframe tbody tr th {\n",
       "        vertical-align: top;\n",
       "    }\n",
       "\n",
       "    .dataframe thead th {\n",
       "        text-align: right;\n",
       "    }\n",
       "</style>\n",
       "<table border=\"1\" class=\"dataframe\">\n",
       "  <thead>\n",
       "    <tr style=\"text-align: right;\">\n",
       "      <th></th>\n",
       "      <th>predictor</th>\n",
       "      <th>fisherscore</th>\n",
       "    </tr>\n",
       "  </thead>\n",
       "  <tbody>\n",
       "    <tr>\n",
       "      <th>0</th>\n",
       "      <td>age</td>\n",
       "      <td>0.066908</td>\n",
       "    </tr>\n",
       "    <tr>\n",
       "      <th>1</th>\n",
       "      <td>campaign</td>\n",
       "      <td>0.171527</td>\n",
       "    </tr>\n",
       "    <tr>\n",
       "      <th>2</th>\n",
       "      <td>pdays</td>\n",
       "      <td>0.468190</td>\n",
       "    </tr>\n",
       "    <tr>\n",
       "      <th>3</th>\n",
       "      <td>previous</td>\n",
       "      <td>0.392902</td>\n",
       "    </tr>\n",
       "    <tr>\n",
       "      <th>4</th>\n",
       "      <td>emp.var.rate</td>\n",
       "      <td>0.670625</td>\n",
       "    </tr>\n",
       "    <tr>\n",
       "      <th>5</th>\n",
       "      <td>cons.price.idx</td>\n",
       "      <td>0.274144</td>\n",
       "    </tr>\n",
       "    <tr>\n",
       "      <th>6</th>\n",
       "      <td>cons.conf.idx</td>\n",
       "      <td>0.100717</td>\n",
       "    </tr>\n",
       "    <tr>\n",
       "      <th>7</th>\n",
       "      <td>euribor3m</td>\n",
       "      <td>0.706631</td>\n",
       "    </tr>\n",
       "    <tr>\n",
       "      <th>8</th>\n",
       "      <td>nr.employed</td>\n",
       "      <td>0.747912</td>\n",
       "    </tr>\n",
       "    <tr>\n",
       "      <th>9</th>\n",
       "      <td>age^2</td>\n",
       "      <td>0.035448</td>\n",
       "    </tr>\n",
       "  </tbody>\n",
       "</table>\n",
       "</div>"
      ],
      "text/plain": [
       "        predictor  fisherscore\n",
       "0             age     0.066908\n",
       "1        campaign     0.171527\n",
       "2           pdays     0.468190\n",
       "3        previous     0.392902\n",
       "4    emp.var.rate     0.670625\n",
       "5  cons.price.idx     0.274144\n",
       "6   cons.conf.idx     0.100717\n",
       "7       euribor3m     0.706631\n",
       "8     nr.employed     0.747912\n",
       "9           age^2     0.035448"
      ]
     },
     "execution_count": 78,
     "metadata": {},
     "output_type": "execute_result"
    }
   ],
   "source": [
    "%%time\n",
    "# Calculate Fisher Score for all variable\n",
    "fs = FisherScore(train, target_var[0], predictors)\n",
    "fs_df = pd.DataFrame({\"predictor\":predictors, \"fisherscore\":fs})\n",
    "fs_df[\"fisherscore2\"] = fs_df.fisherscore.astype(str).str.extract(r' (.*)')\n",
    "fs_df[\"fisher_merged\"] = np.where(fs_df.fisherscore2.isna(),fs_df.fisherscore, fs_df.fisherscore2)\n",
    "fs_df = fs_df.drop([\"fisherscore2\", \"fisherscore\"], axis=1)\n",
    "fs_df.columns = [\"predictor\", \"fisherscore\"]\n",
    "fs_df.fisherscore = fs_df.fisherscore.astype(float)\n",
    "fs_df.head(10)"
   ]
  },
  {
   "cell_type": "code",
   "execution_count": 79,
   "metadata": {},
   "outputs": [
    {
     "data": {
      "text/html": [
       "<div>\n",
       "<style scoped>\n",
       "    .dataframe tbody tr th:only-of-type {\n",
       "        vertical-align: middle;\n",
       "    }\n",
       "\n",
       "    .dataframe tbody tr th {\n",
       "        vertical-align: top;\n",
       "    }\n",
       "\n",
       "    .dataframe thead th {\n",
       "        text-align: right;\n",
       "    }\n",
       "</style>\n",
       "<table border=\"1\" class=\"dataframe\">\n",
       "  <thead>\n",
       "    <tr style=\"text-align: right;\">\n",
       "      <th></th>\n",
       "      <th>predictor</th>\n",
       "      <th>fisherscore</th>\n",
       "    </tr>\n",
       "  </thead>\n",
       "  <tbody>\n",
       "    <tr>\n",
       "      <th>0</th>\n",
       "      <td>nr.employed</td>\n",
       "      <td>0.747912</td>\n",
       "    </tr>\n",
       "    <tr>\n",
       "      <th>1</th>\n",
       "      <td>euribor3m</td>\n",
       "      <td>0.706631</td>\n",
       "    </tr>\n",
       "    <tr>\n",
       "      <th>2</th>\n",
       "      <td>emp.var.rate</td>\n",
       "      <td>0.670625</td>\n",
       "    </tr>\n",
       "    <tr>\n",
       "      <th>3</th>\n",
       "      <td>x33_4.0</td>\n",
       "      <td>0.597664</td>\n",
       "    </tr>\n",
       "    <tr>\n",
       "      <th>4</th>\n",
       "      <td>x33_4.0</td>\n",
       "      <td>0.597664</td>\n",
       "    </tr>\n",
       "  </tbody>\n",
       "</table>\n",
       "</div>"
      ],
      "text/plain": [
       "      predictor  fisherscore\n",
       "0   nr.employed     0.747912\n",
       "1     euribor3m     0.706631\n",
       "2  emp.var.rate     0.670625\n",
       "3       x33_4.0     0.597664\n",
       "4       x33_4.0     0.597664"
      ]
     },
     "execution_count": 79,
     "metadata": {},
     "output_type": "execute_result"
    }
   ],
   "source": [
    "fs_df = fs_df.sort_values('fisherscore', ascending=False).reset_index(drop=True)\n",
    "fs_df.head()"
   ]
  },
  {
   "cell_type": "code",
   "execution_count": 80,
   "metadata": {},
   "outputs": [
    {
     "data": {
      "image/png": "[encoded data removed]",
      "text/plain": [
       "<Figure size 432x288 with 1 Axes>"
      ]
     },
     "metadata": {
      "needs_background": "light"
     },
     "output_type": "display_data"
    },
    {
     "name": "stdout",
     "output_type": "stream",
     "text": [
      "CPU times: total: 203 ms\n",
      "Wall time: 184 ms\n"
     ]
    }
   ],
   "source": [
    "%%time\n",
    "# Visualize the Fisher Score\n",
    "plt.plot(fs_df['fisherscore'].values.squeeze())\n",
    "plt.axvline(x=40, linestyle='dashed', color='red')\n",
    "plt.xticks(rotation=45)\n",
    "plt.xlabel(str(fs_df.shape[0]) + ' predictors')\n",
    "plt.ylabel('Fisher Score')\n",
    "plt.legend(['Fisher Score', 'Top20'])\n",
    "plt.show()"
   ]
  },
  {
   "cell_type": "code",
   "execution_count": 81,
   "metadata": {},
   "outputs": [
    {
     "data": {
      "image/png": "[encoded data removed]",
      "text/plain": [
       "<Figure size 432x288 with 1 Axes>"
      ]
     },
     "metadata": {
      "needs_background": "light"
     },
     "output_type": "display_data"
    },
    {
     "name": "stdout",
     "output_type": "stream",
     "text": [
      "CPU times: total: 1.28 s\n",
      "Wall time: 25.2 s\n"
     ]
    }
   ],
   "source": [
    "%%time\n",
    "# Check how AUC change when add more variables: Top n vars\n",
    "fs_scores = []\n",
    "top_n_vars = 50\n",
    "for i in range(1, top_n_vars+1):\n",
    "    if i % 100 == 0: print('Added # top vars :', i)\n",
    "    top_n_predictors = fs_df['predictor'][:i]\n",
    "    clf = LogisticRegression()\n",
    "    fs_scores.append(cross_validate(clf, train[top_n_predictors], train[target_var].values.squeeze(),\n",
    "                                    scoring='roc_auc', cv=5, verbose=0, n_jobs=-1, return_train_score=True))\n",
    "\n",
    "# How the AUC curve looks like when adding top vars\n",
    "plt.plot([s['train_score'].mean() for s in fs_scores], color='blue')\n",
    "plt.plot([s['test_score'].mean() for s in fs_scores], color='red')\n",
    "plt.xlabel('# vars')\n",
    "plt.ylabel('AUC')\n",
    "plt.legend(['train', 'test'])\n",
    "plt.show()"
   ]
  },
  {
   "cell_type": "code",
   "execution_count": 82,
   "metadata": {},
   "outputs": [
    {
     "name": "stdout",
     "output_type": "stream",
     "text": [
      "Selected # vars : 35\n",
      "CPU times: total: 0 ns\n",
      "Wall time: 0 ns\n"
     ]
    },
    {
     "data": {
      "text/plain": [
       "array(['nr.employed', 'euribor3m', 'emp.var.rate', 'x33_4.0', 'x33_4.0',\n",
       "       'pdays', 'x9_3.0', 'x9_3.0', 'x18_4', 'x18_4', 'x37_4.0',\n",
       "       'x37_4.0', 'previous', 'x32_1.0', 'x32_1.0', 'x18_3', 'x18_3',\n",
       "       'x9_2.0', 'x9_2.0', 'x23_14', 'x23_14', 'x27_16', 'x27_16',\n",
       "       'x33_2.0', 'x33_2.0', 'x21_3', 'x21_3', 'x24_21', 'x24_21',\n",
       "       'x15_4', 'x6_2.0', 'x6_2.0', 'x15_4', 'x27_13', 'x27_13'],\n",
       "      dtype=object)"
      ]
     },
     "execution_count": 82,
     "metadata": {},
     "output_type": "execute_result"
    }
   ],
   "source": [
    "%%time\n",
    "# Select the top variables based on Fisher Score\n",
    "n_top_fs_vars = 35  # Top FS vars\n",
    "top_fs_vars = fs_df['predictor'].values[:n_top_fs_vars]\n",
    "print(\"Selected # vars :\", len(top_fs_vars))\n",
    "top_fs_vars"
   ]
  },
  {
   "cell_type": "markdown",
   "metadata": {},
   "source": [
    "#### Corelation based feature selection"
   ]
  },
  {
   "cell_type": "code",
   "execution_count": 83,
   "metadata": {},
   "outputs": [
    {
     "name": "stdout",
     "output_type": "stream",
     "text": [
      "CPU times: total: 0 ns\n",
      "Wall time: 0 ns\n"
     ]
    }
   ],
   "source": [
    "%time\n",
    "p_x = ['client_id', 'age', 'campaign', 'pdays', 'previous', 'emp.var.rate',\n",
    "       'cons.price.idx', 'cons.conf.idx', 'euribor3m', 'nr.employed', 'job',\n",
    "       'marital', 'education', 'default', 'housing', 'loan', 'contact',\n",
    "       'month', 'day_of_week', 'poutcome', 'age_na', 'campaign_na', 'pdays_na',\n",
    "       'previous_na', 'emp.var.rate_na', 'cons.price.idx_na',\n",
    "       'cons.conf.idx_na', 'euribor3m_na', 'nr.employed_na']\n",
    "\n",
    "p_y = 'subscribe'"
   ]
  },
  {
   "cell_type": "code",
   "execution_count": 84,
   "metadata": {},
   "outputs": [
    {
     "name": "stdout",
     "output_type": "stream",
     "text": [
      "CPU times: total: 0 ns\n",
      "Wall time: 0 ns\n"
     ]
    }
   ],
   "source": [
    "%time\n",
    "#Get corelation based on Kendall, Pearson and Spearman's score\n",
    "def kendall_pval(x,y):\n",
    "    return kendalltau(x,y)[1]\n",
    "\n",
    "def pearsonr_pval(x,y):\n",
    "    return pearsonr(x,y)[1]\n",
    "\n",
    "def spearmanr_pval(x,y):\n",
    "    return spearmanr(x,y)[1]"
   ]
  },
  {
   "cell_type": "code",
   "execution_count": 85,
   "metadata": {},
   "outputs": [
    {
     "name": "stdout",
     "output_type": "stream",
     "text": [
      "CPU times: total: 0 ns\n",
      "Wall time: 0 ns\n"
     ]
    }
   ],
   "source": [
    "%time\n",
    "corr_p = train.corr(method=pearsonr_pval)\n",
    "corr_s = train.corr(method=spearmanr_pval)\n",
    "corr_k = train.corr(method=kendall_pval) "
   ]
  },
  {
   "cell_type": "code",
   "execution_count": 86,
   "metadata": {},
   "outputs": [
    {
     "name": "stdout",
     "output_type": "stream",
     "text": [
      "CPU times: total: 0 ns\n",
      "Wall time: 0 ns\n"
     ]
    }
   ],
   "source": [
    "%time\n",
    "#Get top variables based on the cutoff of 80%\n",
    "cutoff = .8\n",
    "cp_cols = corr_p[corr_p[\"subscribe\"]>cutoff].index\n",
    "cs_cols = corr_s[corr_s[\"subscribe\"]>cutoff].index\n",
    "ck_cols = corr_k[corr_k[\"subscribe\"]>cutoff].index"
   ]
  },
  {
   "cell_type": "code",
   "execution_count": 87,
   "metadata": {},
   "outputs": [
    {
     "name": "stdout",
     "output_type": "stream",
     "text": [
      "CPU times: total: 0 ns\n",
      "Wall time: 0 ns\n",
      "18\n"
     ]
    }
   ],
   "source": [
    "%time\n",
    "cor_cols = list(set(cp_cols) & set(cs_cols) & set(ck_cols))\n",
    "cor_cols.remove('subscribe')\n",
    "print(len(cor_cols))\n",
    "\n",
    "p_f_cols = list(top_fs_vars) + cor_cols"
   ]
  },
  {
   "cell_type": "markdown",
   "metadata": {},
   "source": [
    "## Modeling"
   ]
  },
  {
   "cell_type": "markdown",
   "metadata": {},
   "source": [
    "#### First we get bechmark by running the models with all predictors with default model parametres"
   ]
  },
  {
   "cell_type": "code",
   "execution_count": 88,
   "metadata": {},
   "outputs": [],
   "source": [
    "logistic     = LogisticRegression()\n",
    "DT           = DecisionTreeClassifier()\n",
    "randomForest = RandomForestClassifier()\n",
    "SGD          = CalibratedClassifierCV(SGDClassifier(loss='squared_error'))\n",
    "ADABoost     = AdaBoostClassifier()\n",
    "\n",
    "\n",
    "# create a dict to loop through the models later on\n",
    "models = {\n",
    "          \"Logistic Regression\"     :logistic,\n",
    "          \"DT\"                      :DT,\n",
    "          \"Random Forest\"           :randomForest,\n",
    "          \"SGD Classifier\"          :SGD,\n",
    "          \"ADABoost\"                :ADABoost\n",
    "\n",
    "         }"
   ]
  },
  {
   "cell_type": "code",
   "execution_count": 89,
   "metadata": {},
   "outputs": [
    {
     "name": "stdout",
     "output_type": "stream",
     "text": [
      "CPU times: total: 0 ns\n",
      "Wall time: 0 ns\n",
      "Logistic Regression has been trained successfully\n",
      "CPU times: total: 0 ns\n",
      "Wall time: 0 ns\n",
      "DT has been trained successfully\n",
      "CPU times: total: 0 ns\n",
      "Wall time: 0 ns\n",
      "Random Forest has been trained successfully\n",
      "CPU times: total: 0 ns\n",
      "Wall time: 0 ns\n",
      "SGD Classifier has been trained successfully\n",
      "CPU times: total: 0 ns\n",
      "Wall time: 0 ns\n",
      "ADABoost has been trained successfully\n"
     ]
    }
   ],
   "source": [
    "train_x_all = train[predictors]\n",
    "train_y     = train[target_var].values.ravel()\n",
    "\n",
    "\n",
    "import random\n",
    "shutup.please()\n",
    "for model in models:\n",
    "    %time\n",
    "    random.seed=42\n",
    "    models[model].fit(train_x_all, train_y)\n",
    "    print(f\"{model} has been trained successfully\")"
   ]
  },
  {
   "cell_type": "code",
   "execution_count": 90,
   "metadata": {},
   "outputs": [
    {
     "name": "stdout",
     "output_type": "stream",
     "text": [
      "CPU times: total: 0 ns\n",
      "Wall time: 0 ns\n",
      "Logistic Regression completed.\n",
      "CPU times: total: 0 ns\n",
      "Wall time: 0 ns\n",
      "DT completed.\n",
      "CPU times: total: 0 ns\n",
      "Wall time: 0 ns\n",
      "Random Forest completed.\n",
      "CPU times: total: 0 ns\n",
      "Wall time: 0 ns\n",
      "SGD Classifier completed.\n",
      "CPU times: total: 0 ns\n",
      "Wall time: 0 ns\n",
      "ADABoost completed.\n"
     ]
    }
   ],
   "source": [
    "performances = {}\n",
    "\n",
    "for model in models:\n",
    "    %time\n",
    "    random.seed=42\n",
    "    predictions   = models[model].predict(train_x_all)\n",
    "    probabilities = pd.DataFrame(models[model].predict_proba(train_x_all))[1]\n",
    "    accuracy      = accuracy_score(train_y,predictions)\n",
    "    auc           = roc_auc_score(np.array(train_y),np.array(probabilities))\n",
    "    print(f\"{model} completed.\")\n",
    "    \n",
    "    performances[model] = {\"Train_Accuracy\":accuracy,\"Train_AUC\":auc}\n",
    "\n",
    "train_perf = pd.DataFrame(performances).transpose().sort_values(by=\"Train_AUC\", ascending=False)"
   ]
  },
  {
   "cell_type": "code",
   "execution_count": 91,
   "metadata": {},
   "outputs": [],
   "source": [
    "test_x_all = test[predictors]\n",
    "test_y     = test[target_var].values.ravel()"
   ]
  },
  {
   "cell_type": "code",
   "execution_count": 92,
   "metadata": {},
   "outputs": [
    {
     "name": "stdout",
     "output_type": "stream",
     "text": [
      "CPU times: total: 0 ns\n",
      "Wall time: 0 ns\n",
      "Logistic Regression completed.\n",
      "CPU times: total: 0 ns\n",
      "Wall time: 0 ns\n",
      "DT completed.\n",
      "CPU times: total: 0 ns\n",
      "Wall time: 0 ns\n",
      "Random Forest completed.\n",
      "CPU times: total: 0 ns\n",
      "Wall time: 0 ns\n",
      "SGD Classifier completed.\n",
      "CPU times: total: 0 ns\n",
      "Wall time: 0 ns\n",
      "ADABoost completed.\n"
     ]
    }
   ],
   "source": [
    "performances = {}\n",
    "\n",
    "for model in models:\n",
    "    %time\n",
    "    random.seed=42\n",
    "    predictions   = models[model].predict(test_x_all)\n",
    "    probabilities = pd.DataFrame(models[model].predict_proba(test_x_all))[1]\n",
    "    accuracy      = accuracy_score(test_y,predictions)\n",
    "    auc           = roc_auc_score(np.array(test_y),np.array(probabilities))\n",
    "    print(f\"{model} completed.\")\n",
    "    \n",
    "    performances[model] = {\"Test_Accuracy\":accuracy,\"Test_AUC\":auc}\n",
    "\n",
    "test_perf = pd.DataFrame(performances).transpose().sort_values(by=\"Test_AUC\", ascending=False)"
   ]
  },
  {
   "cell_type": "code",
   "execution_count": 93,
   "metadata": {},
   "outputs": [],
   "source": [
    "perf_all_vars = train_perf.merge(test_perf, left_index=True, right_index=True)"
   ]
  },
  {
   "cell_type": "code",
   "execution_count": 94,
   "metadata": {},
   "outputs": [
    {
     "data": {
      "text/html": [
       "<div>\n",
       "<style scoped>\n",
       "    .dataframe tbody tr th:only-of-type {\n",
       "        vertical-align: middle;\n",
       "    }\n",
       "\n",
       "    .dataframe tbody tr th {\n",
       "        vertical-align: top;\n",
       "    }\n",
       "\n",
       "    .dataframe thead th {\n",
       "        text-align: right;\n",
       "    }\n",
       "</style>\n",
       "<table border=\"1\" class=\"dataframe\">\n",
       "  <thead>\n",
       "    <tr style=\"text-align: right;\">\n",
       "      <th></th>\n",
       "      <th>Train_Accuracy</th>\n",
       "      <th>Train_AUC</th>\n",
       "      <th>Test_Accuracy</th>\n",
       "      <th>Test_AUC</th>\n",
       "    </tr>\n",
       "  </thead>\n",
       "  <tbody>\n",
       "    <tr>\n",
       "      <th>DT</th>\n",
       "      <td>1.000000</td>\n",
       "      <td>1.000000</td>\n",
       "      <td>0.83375</td>\n",
       "      <td>0.635423</td>\n",
       "    </tr>\n",
       "    <tr>\n",
       "      <th>Random Forest</th>\n",
       "      <td>0.999875</td>\n",
       "      <td>1.000000</td>\n",
       "      <td>0.89500</td>\n",
       "      <td>0.767675</td>\n",
       "    </tr>\n",
       "    <tr>\n",
       "      <th>Logistic Regression</th>\n",
       "      <td>0.904250</td>\n",
       "      <td>0.818633</td>\n",
       "      <td>0.89475</td>\n",
       "      <td>0.780463</td>\n",
       "    </tr>\n",
       "    <tr>\n",
       "      <th>ADABoost</th>\n",
       "      <td>0.901500</td>\n",
       "      <td>0.811320</td>\n",
       "      <td>0.89675</td>\n",
       "      <td>0.780094</td>\n",
       "    </tr>\n",
       "    <tr>\n",
       "      <th>SGD Classifier</th>\n",
       "      <td>0.886437</td>\n",
       "      <td>0.500000</td>\n",
       "      <td>0.88650</td>\n",
       "      <td>0.500000</td>\n",
       "    </tr>\n",
       "  </tbody>\n",
       "</table>\n",
       "</div>"
      ],
      "text/plain": [
       "                     Train_Accuracy  Train_AUC  Test_Accuracy  Test_AUC\n",
       "DT                         1.000000   1.000000        0.83375  0.635423\n",
       "Random Forest              0.999875   1.000000        0.89500  0.767675\n",
       "Logistic Regression        0.904250   0.818633        0.89475  0.780463\n",
       "ADABoost                   0.901500   0.811320        0.89675  0.780094\n",
       "SGD Classifier             0.886437   0.500000        0.88650  0.500000"
      ]
     },
     "execution_count": 94,
     "metadata": {},
     "output_type": "execute_result"
    }
   ],
   "source": [
    "perf_all_vars"
   ]
  },
  {
   "cell_type": "markdown",
   "metadata": {},
   "source": [
    "### Default parametres with feature selection - Based on Fisher Score"
   ]
  },
  {
   "cell_type": "code",
   "execution_count": 95,
   "metadata": {},
   "outputs": [],
   "source": [
    "logistic_fisher     = LogisticRegression()\n",
    "DT_fisher           = DecisionTreeClassifier()\n",
    "randomForest_fisher = RandomForestClassifier()\n",
    "SGD_fisher          = CalibratedClassifierCV(SGDClassifier(loss='squared_error'))\n",
    "ADABoost_fisher     = AdaBoostClassifier()\n",
    "\n",
    "\n",
    "\n",
    "# create a dict to loop through the models later on\n",
    "models = {\n",
    "          \"Logistic Regression\"     :logistic_fisher,\n",
    "          \"DT\"                      :DT_fisher,\n",
    "          \"Random Forest\"           :randomForest_fisher,\n",
    "          \"SGD Classifier\"          :SGD_fisher,\n",
    "          \"ADABoost\"                :ADABoost_fisher\n",
    "\n",
    "         }"
   ]
  },
  {
   "cell_type": "code",
   "execution_count": 96,
   "metadata": {},
   "outputs": [
    {
     "data": {
      "text/plain": [
       "35"
      ]
     },
     "execution_count": 96,
     "metadata": {},
     "output_type": "execute_result"
    }
   ],
   "source": [
    "len(top_fs_vars)"
   ]
  },
  {
   "cell_type": "code",
   "execution_count": 97,
   "metadata": {},
   "outputs": [
    {
     "name": "stdout",
     "output_type": "stream",
     "text": [
      "CPU times: total: 0 ns\n",
      "Wall time: 0 ns\n",
      "Logistic Regression has been trained successfully\n",
      "CPU times: total: 0 ns\n",
      "Wall time: 0 ns\n",
      "DT has been trained successfully\n",
      "CPU times: total: 0 ns\n",
      "Wall time: 0 ns\n",
      "Random Forest has been trained successfully\n",
      "CPU times: total: 0 ns\n",
      "Wall time: 0 ns\n",
      "SGD Classifier has been trained successfully\n",
      "CPU times: total: 0 ns\n",
      "Wall time: 0 ns\n",
      "ADABoost has been trained successfully\n"
     ]
    }
   ],
   "source": [
    "train_x_fisher = train[top_fs_vars]\n",
    "train_y     = train[target_var].values.ravel()\n",
    "\n",
    "import random\n",
    "shutup.please()\n",
    "for model in models:\n",
    "    %time\n",
    "    random.seed=42\n",
    "    models[model].fit(train_x_fisher, train_y)\n",
    "    print(f\"{model} has been trained successfully\")"
   ]
  },
  {
   "cell_type": "code",
   "execution_count": 126,
   "metadata": {},
   "outputs": [
    {
     "name": "stdout",
     "output_type": "stream",
     "text": [
      "CPU times: total: 0 ns\n",
      "Wall time: 0 ns\n"
     ]
    }
   ],
   "source": [
    "%time\n",
    "texport = train[top_fs_vars]\n",
    "texport[\"subscribe\"] =  train_y\n",
    "\n",
    "tsxport = test[top_fs_vars]\n",
    "tsxport[\"subscribe\"] =  test_y\n",
    "\n",
    "base_table_feature_sel = pd.concat([texport, tsxport]).reset_index(drop=True)\n",
    "base_table_feature_sel.to_csv(\"../processed/base_table_feature_selection.csv\")"
   ]
  },
  {
   "cell_type": "code",
   "execution_count": 98,
   "metadata": {},
   "outputs": [
    {
     "name": "stdout",
     "output_type": "stream",
     "text": [
      "CPU times: total: 0 ns\n",
      "Wall time: 0 ns\n",
      "Logistic Regression completed.\n",
      "CPU times: total: 0 ns\n",
      "Wall time: 0 ns\n",
      "DT completed.\n",
      "CPU times: total: 0 ns\n",
      "Wall time: 0 ns\n",
      "Random Forest completed.\n",
      "CPU times: total: 0 ns\n",
      "Wall time: 0 ns\n",
      "SGD Classifier completed.\n",
      "CPU times: total: 0 ns\n",
      "Wall time: 0 ns\n",
      "ADABoost completed.\n"
     ]
    }
   ],
   "source": [
    "performances = {}\n",
    "\n",
    "for model in models:\n",
    "    %time\n",
    "    random.seed=42\n",
    "    predictions   = models[model].predict(train_x_fisher)\n",
    "    probabilities = pd.DataFrame(models[model].predict_proba(train_x_fisher))[1]\n",
    "    accuracy      = accuracy_score(train_y,predictions)\n",
    "    auc           = roc_auc_score(np.array(train_y),np.array(probabilities))\n",
    "    print(f\"{model} completed.\")\n",
    "    \n",
    "    performances[model] = {\"Train_Accuracy_F\":accuracy,\"Train_AUC_F\":auc}\n",
    "\n",
    "train_perf_fisher = pd.DataFrame(performances).transpose().sort_values(by=\"Train_AUC_F\", ascending=False)"
   ]
  },
  {
   "cell_type": "code",
   "execution_count": 99,
   "metadata": {},
   "outputs": [
    {
     "name": "stdout",
     "output_type": "stream",
     "text": [
      "CPU times: total: 0 ns\n",
      "Wall time: 0 ns\n",
      "Logistic Regression completed.\n",
      "CPU times: total: 0 ns\n",
      "Wall time: 0 ns\n",
      "DT completed.\n",
      "CPU times: total: 0 ns\n",
      "Wall time: 0 ns\n",
      "Random Forest completed.\n",
      "CPU times: total: 0 ns\n",
      "Wall time: 0 ns\n",
      "SGD Classifier completed.\n",
      "CPU times: total: 0 ns\n",
      "Wall time: 0 ns\n",
      "ADABoost completed.\n"
     ]
    }
   ],
   "source": [
    "test_x_fisher = test[top_fs_vars]\n",
    "test_y     = test[target_var].values.ravel()\n",
    "\n",
    "\n",
    "performances = {}\n",
    "\n",
    "for model in models:\n",
    "    %time\n",
    "    random.seed=42\n",
    "    predictions   = models[model].predict(test_x_fisher)\n",
    "    probabilities = pd.DataFrame(models[model].predict_proba(test_x_fisher))[1]\n",
    "    accuracy      = accuracy_score(test_y,predictions)\n",
    "    auc           = roc_auc_score(np.array(test_y),np.array(probabilities))\n",
    "    print(f\"{model} completed.\")\n",
    "    \n",
    "    performances[model] = {\"Test_Accuracy_F\":accuracy,\"Test_AUC_F\":auc}\n",
    "\n",
    "test_perf_fisher = pd.DataFrame(performances).transpose().sort_values(by=\"Test_AUC_F\", ascending=False)"
   ]
  },
  {
   "cell_type": "code",
   "execution_count": 100,
   "metadata": {},
   "outputs": [
    {
     "data": {
      "text/html": [
       "<div>\n",
       "<style scoped>\n",
       "    .dataframe tbody tr th:only-of-type {\n",
       "        vertical-align: middle;\n",
       "    }\n",
       "\n",
       "    .dataframe tbody tr th {\n",
       "        vertical-align: top;\n",
       "    }\n",
       "\n",
       "    .dataframe thead th {\n",
       "        text-align: right;\n",
       "    }\n",
       "</style>\n",
       "<table border=\"1\" class=\"dataframe\">\n",
       "  <thead>\n",
       "    <tr style=\"text-align: right;\">\n",
       "      <th></th>\n",
       "      <th>Train_Accuracy_F</th>\n",
       "      <th>Train_AUC_F</th>\n",
       "      <th>Test_Accuracy_F</th>\n",
       "      <th>Test_AUC_F</th>\n",
       "    </tr>\n",
       "  </thead>\n",
       "  <tbody>\n",
       "    <tr>\n",
       "      <th>DT</th>\n",
       "      <td>0.923813</td>\n",
       "      <td>0.858448</td>\n",
       "      <td>0.89200</td>\n",
       "      <td>0.693653</td>\n",
       "    </tr>\n",
       "    <tr>\n",
       "      <th>Random Forest</th>\n",
       "      <td>0.923813</td>\n",
       "      <td>0.850099</td>\n",
       "      <td>0.89275</td>\n",
       "      <td>0.765196</td>\n",
       "    </tr>\n",
       "    <tr>\n",
       "      <th>ADABoost</th>\n",
       "      <td>0.900813</td>\n",
       "      <td>0.798792</td>\n",
       "      <td>0.89725</td>\n",
       "      <td>0.787708</td>\n",
       "    </tr>\n",
       "    <tr>\n",
       "      <th>Logistic Regression</th>\n",
       "      <td>0.900250</td>\n",
       "      <td>0.781084</td>\n",
       "      <td>0.89725</td>\n",
       "      <td>0.780051</td>\n",
       "    </tr>\n",
       "    <tr>\n",
       "      <th>SGD Classifier</th>\n",
       "      <td>0.900250</td>\n",
       "      <td>0.778267</td>\n",
       "      <td>0.89700</td>\n",
       "      <td>0.771916</td>\n",
       "    </tr>\n",
       "  </tbody>\n",
       "</table>\n",
       "</div>"
      ],
      "text/plain": [
       "                     Train_Accuracy_F  Train_AUC_F  Test_Accuracy_F  \\\n",
       "DT                           0.923813     0.858448          0.89200   \n",
       "Random Forest                0.923813     0.850099          0.89275   \n",
       "ADABoost                     0.900813     0.798792          0.89725   \n",
       "Logistic Regression          0.900250     0.781084          0.89725   \n",
       "SGD Classifier               0.900250     0.778267          0.89700   \n",
       "\n",
       "                     Test_AUC_F  \n",
       "DT                     0.693653  \n",
       "Random Forest          0.765196  \n",
       "ADABoost               0.787708  \n",
       "Logistic Regression    0.780051  \n",
       "SGD Classifier         0.771916  "
      ]
     },
     "execution_count": 100,
     "metadata": {},
     "output_type": "execute_result"
    }
   ],
   "source": [
    "perf_fisher_vars = train_perf_fisher.merge(test_perf_fisher, left_index=True, right_index=True)\n",
    "perf_fisher_vars"
   ]
  },
  {
   "cell_type": "code",
   "execution_count": 101,
   "metadata": {},
   "outputs": [],
   "source": [
    "all_data = pd.concat([train, test]).reset_index(drop=True)"
   ]
  },
  {
   "cell_type": "markdown",
   "metadata": {},
   "source": [
    "### Cross Validation on top 2 Models"
   ]
  },
  {
   "cell_type": "code",
   "execution_count": 102,
   "metadata": {},
   "outputs": [
    {
     "name": "stdout",
     "output_type": "stream",
     "text": [
      "CPU times: total: 0 ns\n",
      "Wall time: 0 ns\n",
      "Mean AUC:  0.7793632857113336\n"
     ]
    },
    {
     "data": {
      "text/plain": [
       "array([0.80868435, 0.7824278 , 0.77534158, 0.78374218, 0.75972306,\n",
       "       0.78569263, 0.79413175, 0.74410454, 0.77286562, 0.78691933])"
      ]
     },
     "execution_count": 102,
     "metadata": {},
     "output_type": "execute_result"
    }
   ],
   "source": [
    "%time\n",
    "cv_auc_lr = cross_val_score(logistic_fisher, all_data[top_fs_vars], all_data.subscribe, cv=10, scoring='roc_auc')\n",
    "print(\"Mean AUC: \", cv_auc_lr.mean())\n",
    "cv_auc_lr"
   ]
  },
  {
   "cell_type": "code",
   "execution_count": 103,
   "metadata": {},
   "outputs": [
    {
     "name": "stdout",
     "output_type": "stream",
     "text": [
      "CPU times: total: 0 ns\n",
      "Wall time: 0 ns\n",
      "mean AUC:  0.7907664186825263\n"
     ]
    },
    {
     "data": {
      "text/plain": [
       "array([0.83355875, 0.78673524, 0.78682151, 0.79625301, 0.796907  ,\n",
       "       0.80477583, 0.75624713, 0.79713921, 0.79248888, 0.80607288,\n",
       "       0.79063435, 0.75226353, 0.79686747, 0.77046425, 0.79426724])"
      ]
     },
     "execution_count": 103,
     "metadata": {},
     "output_type": "execute_result"
    }
   ],
   "source": [
    "%time\n",
    "cv_auc_ada = cross_val_score(ADABoost_fisher, all_data[top_fs_vars], all_data.subscribe, cv=15, scoring='roc_auc')\n",
    "print(\"mean AUC: \", cv_auc_ada.mean())\n",
    "cv_auc_ada"
   ]
  },
  {
   "cell_type": "markdown",
   "metadata": {},
   "source": [
    "#### Run models with combined feature selection based on Fisher's Score and Corelation"
   ]
  },
  {
   "cell_type": "code",
   "execution_count": 104,
   "metadata": {},
   "outputs": [
    {
     "name": "stdout",
     "output_type": "stream",
     "text": [
      "CPU times: total: 0 ns\n",
      "Wall time: 0 ns\n"
     ]
    }
   ],
   "source": [
    "%time\n",
    "logistic_fisher_corr     = LogisticRegression()\n",
    "DT_fisher_corr           = DecisionTreeClassifier()\n",
    "randomForest_fisher_corr = RandomForestClassifier()\n",
    "SGD_fisher_corr         = CalibratedClassifierCV(SGDClassifier(loss='squared_error'))\n",
    "ADABoost_fisher_corr     = AdaBoostClassifier()\n",
    "\n",
    "\n",
    "\n",
    "# create a dict to loop through the models later on\n",
    "models = {\n",
    "          \"Logistic Regression\"     :logistic_fisher_corr,\n",
    "          \"DT\"                      :DT_fisher_corr,\n",
    "          \"Random Forest\"           :randomForest_fisher_corr,\n",
    "          \"SGD Classifier\"          :SGD_fisher_corr,\n",
    "          \"ADABoost\"                :ADABoost_fisher_corr\n",
    "\n",
    "         }"
   ]
  },
  {
   "cell_type": "code",
   "execution_count": 105,
   "metadata": {},
   "outputs": [
    {
     "name": "stdout",
     "output_type": "stream",
     "text": [
      "CPU times: total: 0 ns\n",
      "Wall time: 0 ns\n",
      "Logistic Regression has been trained successfully\n",
      "CPU times: total: 0 ns\n",
      "Wall time: 0 ns\n",
      "DT has been trained successfully\n",
      "CPU times: total: 0 ns\n",
      "Wall time: 0 ns\n",
      "Random Forest has been trained successfully\n",
      "CPU times: total: 0 ns\n",
      "Wall time: 0 ns\n",
      "SGD Classifier has been trained successfully\n",
      "CPU times: total: 0 ns\n",
      "Wall time: 0 ns\n",
      "ADABoost has been trained successfully\n"
     ]
    }
   ],
   "source": [
    "train_x_fisher_p = train[p_f_cols]\n",
    "train_y     = train[target_var].values.ravel()\n",
    "\n",
    "import random\n",
    "shutup.please()\n",
    "for model in models:\n",
    "    %time\n",
    "    random.seed=42\n",
    "    models[model].fit(train_x_fisher_p, train_y)\n",
    "    print(f\"{model} has been trained successfully\")"
   ]
  },
  {
   "cell_type": "code",
   "execution_count": 106,
   "metadata": {},
   "outputs": [
    {
     "name": "stdout",
     "output_type": "stream",
     "text": [
      "CPU times: total: 0 ns\n",
      "Wall time: 0 ns\n",
      "Logistic Regression completed.\n",
      "CPU times: total: 0 ns\n",
      "Wall time: 0 ns\n",
      "DT completed.\n",
      "CPU times: total: 0 ns\n",
      "Wall time: 0 ns\n",
      "Random Forest completed.\n",
      "CPU times: total: 0 ns\n",
      "Wall time: 0 ns\n",
      "SGD Classifier completed.\n",
      "CPU times: total: 0 ns\n",
      "Wall time: 0 ns\n",
      "ADABoost completed.\n"
     ]
    }
   ],
   "source": [
    "performances = {}\n",
    "\n",
    "for model in models:\n",
    "    %time\n",
    "    random.seed=42\n",
    "    predictions   = models[model].predict(train_x_fisher_p)\n",
    "    probabilities = pd.DataFrame(models[model].predict_proba(train_x_fisher_p))[1]\n",
    "    accuracy      = accuracy_score(train_y,predictions)\n",
    "    auc           = roc_auc_score(np.array(train_y),np.array(probabilities))\n",
    "    print(f\"{model} completed.\")\n",
    "    \n",
    "    performances[model] = {\"Train_Accuracy_FP\":accuracy,\"Train_AUC_FP\":auc}\n",
    "\n",
    "train_perf_fisher_p = pd.DataFrame(performances).transpose().sort_values(by=\"Train_AUC_FP\", ascending=False)"
   ]
  },
  {
   "cell_type": "code",
   "execution_count": 107,
   "metadata": {},
   "outputs": [
    {
     "name": "stdout",
     "output_type": "stream",
     "text": [
      "CPU times: total: 0 ns\n",
      "Wall time: 0 ns\n",
      "Logistic Regression completed.\n",
      "CPU times: total: 0 ns\n",
      "Wall time: 0 ns\n",
      "DT completed.\n",
      "CPU times: total: 0 ns\n",
      "Wall time: 0 ns\n",
      "Random Forest completed.\n",
      "CPU times: total: 0 ns\n",
      "Wall time: 0 ns\n",
      "SGD Classifier completed.\n",
      "CPU times: total: 0 ns\n",
      "Wall time: 0 ns\n",
      "ADABoost completed.\n"
     ]
    }
   ],
   "source": [
    "test_x_fisher_p = test[p_f_cols]\n",
    "test_y     = test[target_var].values.ravel()\n",
    "\n",
    "\n",
    "performances = {}\n",
    "\n",
    "for model in models:\n",
    "    %time\n",
    "    random.seed=42\n",
    "    predictions   = models[model].predict(test_x_fisher_p)\n",
    "    probabilities = pd.DataFrame(models[model].predict_proba(test_x_fisher_p))[1]\n",
    "    accuracy      = accuracy_score(test_y,predictions)\n",
    "    auc           = roc_auc_score(np.array(test_y),np.array(probabilities))\n",
    "    print(f\"{model} completed.\")\n",
    "    \n",
    "    performances[model] = {\"Test_Accuracy_FP\":accuracy,\"Test_AUC_FP\":auc}\n",
    "\n",
    "test_perf_fisher_p = pd.DataFrame(performances).transpose().sort_values(by=\"Test_AUC_FP\", ascending=False)"
   ]
  },
  {
   "cell_type": "code",
   "execution_count": 108,
   "metadata": {},
   "outputs": [
    {
     "data": {
      "text/html": [
       "<div>\n",
       "<style scoped>\n",
       "    .dataframe tbody tr th:only-of-type {\n",
       "        vertical-align: middle;\n",
       "    }\n",
       "\n",
       "    .dataframe tbody tr th {\n",
       "        vertical-align: top;\n",
       "    }\n",
       "\n",
       "    .dataframe thead th {\n",
       "        text-align: right;\n",
       "    }\n",
       "</style>\n",
       "<table border=\"1\" class=\"dataframe\">\n",
       "  <thead>\n",
       "    <tr style=\"text-align: right;\">\n",
       "      <th></th>\n",
       "      <th>Train_Accuracy_FP</th>\n",
       "      <th>Train_AUC_FP</th>\n",
       "      <th>Test_Accuracy_FP</th>\n",
       "      <th>Test_AUC_FP</th>\n",
       "    </tr>\n",
       "  </thead>\n",
       "  <tbody>\n",
       "    <tr>\n",
       "      <th>DT</th>\n",
       "      <td>0.940438</td>\n",
       "      <td>0.931265</td>\n",
       "      <td>0.88150</td>\n",
       "      <td>0.632255</td>\n",
       "    </tr>\n",
       "    <tr>\n",
       "      <th>Random Forest</th>\n",
       "      <td>0.940375</td>\n",
       "      <td>0.918136</td>\n",
       "      <td>0.88425</td>\n",
       "      <td>0.737800</td>\n",
       "    </tr>\n",
       "    <tr>\n",
       "      <th>ADABoost</th>\n",
       "      <td>0.901000</td>\n",
       "      <td>0.798024</td>\n",
       "      <td>0.89800</td>\n",
       "      <td>0.787114</td>\n",
       "    </tr>\n",
       "    <tr>\n",
       "      <th>Logistic Regression</th>\n",
       "      <td>0.900250</td>\n",
       "      <td>0.784316</td>\n",
       "      <td>0.89825</td>\n",
       "      <td>0.781717</td>\n",
       "    </tr>\n",
       "    <tr>\n",
       "      <th>SGD Classifier</th>\n",
       "      <td>0.886437</td>\n",
       "      <td>0.771814</td>\n",
       "      <td>0.88650</td>\n",
       "      <td>0.773814</td>\n",
       "    </tr>\n",
       "  </tbody>\n",
       "</table>\n",
       "</div>"
      ],
      "text/plain": [
       "                     Train_Accuracy_FP  Train_AUC_FP  Test_Accuracy_FP  \\\n",
       "DT                            0.940438      0.931265           0.88150   \n",
       "Random Forest                 0.940375      0.918136           0.88425   \n",
       "ADABoost                      0.901000      0.798024           0.89800   \n",
       "Logistic Regression           0.900250      0.784316           0.89825   \n",
       "SGD Classifier                0.886437      0.771814           0.88650   \n",
       "\n",
       "                     Test_AUC_FP  \n",
       "DT                      0.632255  \n",
       "Random Forest           0.737800  \n",
       "ADABoost                0.787114  \n",
       "Logistic Regression     0.781717  \n",
       "SGD Classifier          0.773814  "
      ]
     },
     "execution_count": 108,
     "metadata": {},
     "output_type": "execute_result"
    }
   ],
   "source": [
    "perf_fisher_corr_vars  = train_perf_fisher_p.merge(test_perf_fisher_p, left_index=True, right_index=True)\n",
    "perf_fisher_corr_vars"
   ]
  },
  {
   "cell_type": "markdown",
   "metadata": {},
   "source": [
    "### Combine evaluation tables and transform table to make it easy to read"
   ]
  },
  {
   "cell_type": "code",
   "execution_count": 109,
   "metadata": {},
   "outputs": [],
   "source": [
    "All_Perf = perf_fisher_vars.merge(perf_all_vars, left_index=True, right_index=True).merge(perf_fisher_corr_vars, left_index=True, right_index=True)"
   ]
  },
  {
   "cell_type": "code",
   "execution_count": 110,
   "metadata": {},
   "outputs": [],
   "source": [
    "All_Perf = All_Perf[['Train_Accuracy', 'Test_Accuracy', 'Train_AUC', 'Test_AUC',\n",
    "'Train_Accuracy_F', 'Test_Accuracy_F','Train_AUC_F',  'Test_AUC_F',\n",
    "       'Train_Accuracy_FP', 'Test_Accuracy_FP', 'Train_AUC_FP',  'Test_AUC_FP']]\n",
    "\n",
    "All_Perf.columns = ['Train_Accuracy_All_Features', 'Test_Accuracy_All_Features', 'Train_AUC_All_Features', 'Test_AUC_All_Features',\n",
    "'Train_Accuracy_Fisher_Score', 'Test_Accuracy_Fisher_Score', 'Train_AUC_Fisher_Score',  'Test_AUC_Fisher_Score',\n",
    "       'Train_Accuracy_Fisher_Corr_Score', 'Test_Accuracy_Fisher_Corr_Score', 'Train_AUC_Fisher_Corr_Score', 'Test_AUC_Fisher_Corr_Score']  "
   ]
  },
  {
   "cell_type": "code",
   "execution_count": 111,
   "metadata": {},
   "outputs": [
    {
     "data": {
      "text/html": [
       "<div>\n",
       "<style scoped>\n",
       "    .dataframe tbody tr th:only-of-type {\n",
       "        vertical-align: middle;\n",
       "    }\n",
       "\n",
       "    .dataframe tbody tr th {\n",
       "        vertical-align: top;\n",
       "    }\n",
       "\n",
       "    .dataframe thead th {\n",
       "        text-align: right;\n",
       "    }\n",
       "</style>\n",
       "<table border=\"1\" class=\"dataframe\">\n",
       "  <thead>\n",
       "    <tr style=\"text-align: right;\">\n",
       "      <th></th>\n",
       "      <th>DT</th>\n",
       "      <th>Random Forest</th>\n",
       "      <th>ADABoost</th>\n",
       "      <th>Logistic Regression</th>\n",
       "      <th>SGD Classifier</th>\n",
       "    </tr>\n",
       "  </thead>\n",
       "  <tbody>\n",
       "    <tr>\n",
       "      <th>Train_Accuracy_All_Features</th>\n",
       "      <td>1.000000</td>\n",
       "      <td>0.999875</td>\n",
       "      <td>0.901500</td>\n",
       "      <td>0.904250</td>\n",
       "      <td>0.886437</td>\n",
       "    </tr>\n",
       "    <tr>\n",
       "      <th>Test_Accuracy_All_Features</th>\n",
       "      <td>0.833750</td>\n",
       "      <td>0.895000</td>\n",
       "      <td>0.896750</td>\n",
       "      <td>0.894750</td>\n",
       "      <td>0.886500</td>\n",
       "    </tr>\n",
       "    <tr>\n",
       "      <th>Train_AUC_All_Features</th>\n",
       "      <td>1.000000</td>\n",
       "      <td>1.000000</td>\n",
       "      <td>0.811320</td>\n",
       "      <td>0.818633</td>\n",
       "      <td>0.500000</td>\n",
       "    </tr>\n",
       "    <tr>\n",
       "      <th>Test_AUC_All_Features</th>\n",
       "      <td>0.635423</td>\n",
       "      <td>0.767675</td>\n",
       "      <td>0.780094</td>\n",
       "      <td>0.780463</td>\n",
       "      <td>0.500000</td>\n",
       "    </tr>\n",
       "    <tr>\n",
       "      <th>Train_Accuracy_Fisher_Score</th>\n",
       "      <td>0.923813</td>\n",
       "      <td>0.923813</td>\n",
       "      <td>0.900813</td>\n",
       "      <td>0.900250</td>\n",
       "      <td>0.900250</td>\n",
       "    </tr>\n",
       "    <tr>\n",
       "      <th>Test_Accuracy_Fisher_Score</th>\n",
       "      <td>0.892000</td>\n",
       "      <td>0.892750</td>\n",
       "      <td>0.897250</td>\n",
       "      <td>0.897250</td>\n",
       "      <td>0.897000</td>\n",
       "    </tr>\n",
       "    <tr>\n",
       "      <th>Train_AUC_Fisher_Score</th>\n",
       "      <td>0.858448</td>\n",
       "      <td>0.850099</td>\n",
       "      <td>0.798792</td>\n",
       "      <td>0.781084</td>\n",
       "      <td>0.778267</td>\n",
       "    </tr>\n",
       "    <tr>\n",
       "      <th>Test_AUC_Fisher_Score</th>\n",
       "      <td>0.693653</td>\n",
       "      <td>0.765196</td>\n",
       "      <td>0.787708</td>\n",
       "      <td>0.780051</td>\n",
       "      <td>0.771916</td>\n",
       "    </tr>\n",
       "    <tr>\n",
       "      <th>Train_Accuracy_Fisher_Corr_Score</th>\n",
       "      <td>0.940438</td>\n",
       "      <td>0.940375</td>\n",
       "      <td>0.901000</td>\n",
       "      <td>0.900250</td>\n",
       "      <td>0.886437</td>\n",
       "    </tr>\n",
       "    <tr>\n",
       "      <th>Test_Accuracy_Fisher_Corr_Score</th>\n",
       "      <td>0.881500</td>\n",
       "      <td>0.884250</td>\n",
       "      <td>0.898000</td>\n",
       "      <td>0.898250</td>\n",
       "      <td>0.886500</td>\n",
       "    </tr>\n",
       "    <tr>\n",
       "      <th>Train_AUC_Fisher_Corr_Score</th>\n",
       "      <td>0.931265</td>\n",
       "      <td>0.918136</td>\n",
       "      <td>0.798024</td>\n",
       "      <td>0.784316</td>\n",
       "      <td>0.771814</td>\n",
       "    </tr>\n",
       "    <tr>\n",
       "      <th>Test_AUC_Fisher_Corr_Score</th>\n",
       "      <td>0.632255</td>\n",
       "      <td>0.737800</td>\n",
       "      <td>0.787114</td>\n",
       "      <td>0.781717</td>\n",
       "      <td>0.773814</td>\n",
       "    </tr>\n",
       "  </tbody>\n",
       "</table>\n",
       "</div>"
      ],
      "text/plain": [
       "                                        DT  Random Forest  ADABoost  \\\n",
       "Train_Accuracy_All_Features       1.000000       0.999875  0.901500   \n",
       "Test_Accuracy_All_Features        0.833750       0.895000  0.896750   \n",
       "Train_AUC_All_Features            1.000000       1.000000  0.811320   \n",
       "Test_AUC_All_Features             0.635423       0.767675  0.780094   \n",
       "Train_Accuracy_Fisher_Score       0.923813       0.923813  0.900813   \n",
       "Test_Accuracy_Fisher_Score        0.892000       0.892750  0.897250   \n",
       "Train_AUC_Fisher_Score            0.858448       0.850099  0.798792   \n",
       "Test_AUC_Fisher_Score             0.693653       0.765196  0.787708   \n",
       "Train_Accuracy_Fisher_Corr_Score  0.940438       0.940375  0.901000   \n",
       "Test_Accuracy_Fisher_Corr_Score   0.881500       0.884250  0.898000   \n",
       "Train_AUC_Fisher_Corr_Score       0.931265       0.918136  0.798024   \n",
       "Test_AUC_Fisher_Corr_Score        0.632255       0.737800  0.787114   \n",
       "\n",
       "                                  Logistic Regression  SGD Classifier  \n",
       "Train_Accuracy_All_Features                  0.904250        0.886437  \n",
       "Test_Accuracy_All_Features                   0.894750        0.886500  \n",
       "Train_AUC_All_Features                       0.818633        0.500000  \n",
       "Test_AUC_All_Features                        0.780463        0.500000  \n",
       "Train_Accuracy_Fisher_Score                  0.900250        0.900250  \n",
       "Test_Accuracy_Fisher_Score                   0.897250        0.897000  \n",
       "Train_AUC_Fisher_Score                       0.781084        0.778267  \n",
       "Test_AUC_Fisher_Score                        0.780051        0.771916  \n",
       "Train_Accuracy_Fisher_Corr_Score             0.900250        0.886437  \n",
       "Test_Accuracy_Fisher_Corr_Score              0.898250        0.886500  \n",
       "Train_AUC_Fisher_Corr_Score                  0.784316        0.771814  \n",
       "Test_AUC_Fisher_Corr_Score                   0.781717        0.773814  "
      ]
     },
     "execution_count": 111,
     "metadata": {},
     "output_type": "execute_result"
    }
   ],
   "source": [
    "All_Perf_T = All_Perf.T\n",
    "All_Perf_T"
   ]
  },
  {
   "cell_type": "code",
   "execution_count": 112,
   "metadata": {},
   "outputs": [],
   "source": [
    "AUC_L = ['Train_AUC_All_Features', 'Test_AUC_All_Features','Train_AUC_Fisher_Score', 'Test_AUC_Fisher_Score', 'Train_AUC_Fisher_Corr_Score', 'Test_AUC_Fisher_Corr_Score']\n",
    "ACCURACY_L = ['Train_Accuracy_All_Features', 'Test_Accuracy_All_Features','Train_Accuracy_Fisher_Score', 'Test_Accuracy_Fisher_Score', 'Train_Accuracy_Fisher_Corr_Score', 'Test_Accuracy_Fisher_Corr_Score']"
   ]
  },
  {
   "cell_type": "markdown",
   "metadata": {},
   "source": [
    "#### Compare AUC"
   ]
  },
  {
   "cell_type": "code",
   "execution_count": 113,
   "metadata": {},
   "outputs": [
    {
     "data": {
      "text/html": [
       "<div>\n",
       "<style scoped>\n",
       "    .dataframe tbody tr th:only-of-type {\n",
       "        vertical-align: middle;\n",
       "    }\n",
       "\n",
       "    .dataframe tbody tr th {\n",
       "        vertical-align: top;\n",
       "    }\n",
       "\n",
       "    .dataframe thead th {\n",
       "        text-align: right;\n",
       "    }\n",
       "</style>\n",
       "<table border=\"1\" class=\"dataframe\">\n",
       "  <thead>\n",
       "    <tr style=\"text-align: right;\">\n",
       "      <th></th>\n",
       "      <th>DT</th>\n",
       "      <th>Random Forest</th>\n",
       "      <th>ADABoost</th>\n",
       "      <th>Logistic Regression</th>\n",
       "      <th>SGD Classifier</th>\n",
       "    </tr>\n",
       "  </thead>\n",
       "  <tbody>\n",
       "    <tr>\n",
       "      <th>Train_AUC_All_Features</th>\n",
       "      <td>1.000000</td>\n",
       "      <td>1.000000</td>\n",
       "      <td>0.811320</td>\n",
       "      <td>0.818633</td>\n",
       "      <td>0.500000</td>\n",
       "    </tr>\n",
       "    <tr>\n",
       "      <th>Test_AUC_All_Features</th>\n",
       "      <td>0.635423</td>\n",
       "      <td>0.767675</td>\n",
       "      <td>0.780094</td>\n",
       "      <td>0.780463</td>\n",
       "      <td>0.500000</td>\n",
       "    </tr>\n",
       "    <tr>\n",
       "      <th>Train_AUC_Fisher_Score</th>\n",
       "      <td>0.858448</td>\n",
       "      <td>0.850099</td>\n",
       "      <td>0.798792</td>\n",
       "      <td>0.781084</td>\n",
       "      <td>0.778267</td>\n",
       "    </tr>\n",
       "    <tr>\n",
       "      <th>Test_AUC_Fisher_Score</th>\n",
       "      <td>0.693653</td>\n",
       "      <td>0.765196</td>\n",
       "      <td>0.787708</td>\n",
       "      <td>0.780051</td>\n",
       "      <td>0.771916</td>\n",
       "    </tr>\n",
       "    <tr>\n",
       "      <th>Train_AUC_Fisher_Corr_Score</th>\n",
       "      <td>0.931265</td>\n",
       "      <td>0.918136</td>\n",
       "      <td>0.798024</td>\n",
       "      <td>0.784316</td>\n",
       "      <td>0.771814</td>\n",
       "    </tr>\n",
       "    <tr>\n",
       "      <th>Test_AUC_Fisher_Corr_Score</th>\n",
       "      <td>0.632255</td>\n",
       "      <td>0.737800</td>\n",
       "      <td>0.787114</td>\n",
       "      <td>0.781717</td>\n",
       "      <td>0.773814</td>\n",
       "    </tr>\n",
       "  </tbody>\n",
       "</table>\n",
       "</div>"
      ],
      "text/plain": [
       "                                   DT  Random Forest  ADABoost  \\\n",
       "Train_AUC_All_Features       1.000000       1.000000  0.811320   \n",
       "Test_AUC_All_Features        0.635423       0.767675  0.780094   \n",
       "Train_AUC_Fisher_Score       0.858448       0.850099  0.798792   \n",
       "Test_AUC_Fisher_Score        0.693653       0.765196  0.787708   \n",
       "Train_AUC_Fisher_Corr_Score  0.931265       0.918136  0.798024   \n",
       "Test_AUC_Fisher_Corr_Score   0.632255       0.737800  0.787114   \n",
       "\n",
       "                             Logistic Regression  SGD Classifier  \n",
       "Train_AUC_All_Features                  0.818633        0.500000  \n",
       "Test_AUC_All_Features                   0.780463        0.500000  \n",
       "Train_AUC_Fisher_Score                  0.781084        0.778267  \n",
       "Test_AUC_Fisher_Score                   0.780051        0.771916  \n",
       "Train_AUC_Fisher_Corr_Score             0.784316        0.771814  \n",
       "Test_AUC_Fisher_Corr_Score              0.781717        0.773814  "
      ]
     },
     "execution_count": 113,
     "metadata": {},
     "output_type": "execute_result"
    }
   ],
   "source": [
    "All_Perf_T[All_Perf_T.index.isin(AUC_L)]"
   ]
  },
  {
   "cell_type": "markdown",
   "metadata": {},
   "source": [
    "### Compare Accuracy"
   ]
  },
  {
   "cell_type": "code",
   "execution_count": 114,
   "metadata": {},
   "outputs": [
    {
     "data": {
      "text/html": [
       "<div>\n",
       "<style scoped>\n",
       "    .dataframe tbody tr th:only-of-type {\n",
       "        vertical-align: middle;\n",
       "    }\n",
       "\n",
       "    .dataframe tbody tr th {\n",
       "        vertical-align: top;\n",
       "    }\n",
       "\n",
       "    .dataframe thead th {\n",
       "        text-align: right;\n",
       "    }\n",
       "</style>\n",
       "<table border=\"1\" class=\"dataframe\">\n",
       "  <thead>\n",
       "    <tr style=\"text-align: right;\">\n",
       "      <th></th>\n",
       "      <th>DT</th>\n",
       "      <th>Random Forest</th>\n",
       "      <th>ADABoost</th>\n",
       "      <th>Logistic Regression</th>\n",
       "      <th>SGD Classifier</th>\n",
       "    </tr>\n",
       "  </thead>\n",
       "  <tbody>\n",
       "    <tr>\n",
       "      <th>Train_Accuracy_All_Features</th>\n",
       "      <td>1.000000</td>\n",
       "      <td>0.999875</td>\n",
       "      <td>0.901500</td>\n",
       "      <td>0.90425</td>\n",
       "      <td>0.886437</td>\n",
       "    </tr>\n",
       "    <tr>\n",
       "      <th>Test_Accuracy_All_Features</th>\n",
       "      <td>0.833750</td>\n",
       "      <td>0.895000</td>\n",
       "      <td>0.896750</td>\n",
       "      <td>0.89475</td>\n",
       "      <td>0.886500</td>\n",
       "    </tr>\n",
       "    <tr>\n",
       "      <th>Train_Accuracy_Fisher_Score</th>\n",
       "      <td>0.923813</td>\n",
       "      <td>0.923813</td>\n",
       "      <td>0.900813</td>\n",
       "      <td>0.90025</td>\n",
       "      <td>0.900250</td>\n",
       "    </tr>\n",
       "    <tr>\n",
       "      <th>Test_Accuracy_Fisher_Score</th>\n",
       "      <td>0.892000</td>\n",
       "      <td>0.892750</td>\n",
       "      <td>0.897250</td>\n",
       "      <td>0.89725</td>\n",
       "      <td>0.897000</td>\n",
       "    </tr>\n",
       "    <tr>\n",
       "      <th>Train_Accuracy_Fisher_Corr_Score</th>\n",
       "      <td>0.940438</td>\n",
       "      <td>0.940375</td>\n",
       "      <td>0.901000</td>\n",
       "      <td>0.90025</td>\n",
       "      <td>0.886437</td>\n",
       "    </tr>\n",
       "    <tr>\n",
       "      <th>Test_Accuracy_Fisher_Corr_Score</th>\n",
       "      <td>0.881500</td>\n",
       "      <td>0.884250</td>\n",
       "      <td>0.898000</td>\n",
       "      <td>0.89825</td>\n",
       "      <td>0.886500</td>\n",
       "    </tr>\n",
       "  </tbody>\n",
       "</table>\n",
       "</div>"
      ],
      "text/plain": [
       "                                        DT  Random Forest  ADABoost  \\\n",
       "Train_Accuracy_All_Features       1.000000       0.999875  0.901500   \n",
       "Test_Accuracy_All_Features        0.833750       0.895000  0.896750   \n",
       "Train_Accuracy_Fisher_Score       0.923813       0.923813  0.900813   \n",
       "Test_Accuracy_Fisher_Score        0.892000       0.892750  0.897250   \n",
       "Train_Accuracy_Fisher_Corr_Score  0.940438       0.940375  0.901000   \n",
       "Test_Accuracy_Fisher_Corr_Score   0.881500       0.884250  0.898000   \n",
       "\n",
       "                                  Logistic Regression  SGD Classifier  \n",
       "Train_Accuracy_All_Features                   0.90425        0.886437  \n",
       "Test_Accuracy_All_Features                    0.89475        0.886500  \n",
       "Train_Accuracy_Fisher_Score                   0.90025        0.900250  \n",
       "Test_Accuracy_Fisher_Score                    0.89725        0.897000  \n",
       "Train_Accuracy_Fisher_Corr_Score              0.90025        0.886437  \n",
       "Test_Accuracy_Fisher_Corr_Score               0.89825        0.886500  "
      ]
     },
     "execution_count": 114,
     "metadata": {},
     "output_type": "execute_result"
    }
   ],
   "source": [
    "All_Perf_T[All_Perf_T.index.isin(ACCURACY_L)]"
   ]
  },
  {
   "cell_type": "code",
   "execution_count": 115,
   "metadata": {},
   "outputs": [],
   "source": [
    "# GridSearchCV(estimator=SGD())"
   ]
  },
  {
   "cell_type": "markdown",
   "metadata": {},
   "source": [
    "Thank you!"
   ]
  }
 ],
 "metadata": {
  "interpreter": {
   "hash": "697c6cc2dba9166ebdc3397f657d4aadf22033a39a04e9d320f116bdf5d72e33"
  },
  "kernelspec": {
   "display_name": "Python 3.8.12 ('pytorch')",
   "language": "python",
   "name": "python3"
  },
  "language_info": {
   "codemirror_mode": {
    "name": "ipython",
    "version": 3
   },
   "file_extension": ".py",
   "mimetype": "text/x-python",
   "name": "python",
   "nbconvert_exporter": "python",
   "pygments_lexer": "ipython3",
   "version": "3.8.12"
  },
  "orig_nbformat": 4
 },
 "nbformat": 4,
 "nbformat_minor": 2
}
